{
  "nbformat": 4,
  "nbformat_minor": 0,
  "metadata": {
    "kernelspec": {
      "display_name": "Python 3",
      "language": "python",
      "name": "python3"
    },
    "language_info": {
      "codemirror_mode": {
        "name": "ipython",
        "version": 3
      },
      "file_extension": ".py",
      "mimetype": "text/x-python",
      "name": "python",
      "nbconvert_exporter": "python",
      "pygments_lexer": "ipython3",
      "version": "3.6.6"
    },
    "colab": {
      "name": "NYC Taxi Trip Time Prediction - Capstone Project.ipynb",
      "provenance": [],
      "collapsed_sections": [],
      "include_colab_link": true
    }
  },
  "cells": [
    {
      "cell_type": "markdown",
      "metadata": {
        "id": "view-in-github",
        "colab_type": "text"
      },
      "source": [
        "<a href=\"https://colab.research.google.com/github/Kishan459/NYC-Taxi-Trip-Time_prediction/blob/main/NYC_Taxi_Trip_Time_Prediction_Capstone_Project.ipynb\" target=\"_parent\"><img src=\"https://colab.research.google.com/assets/colab-badge.svg\" alt=\"Open In Colab\"/></a>"
      ]
    },
    {
      "cell_type": "markdown",
      "metadata": {
        "id": "tOGC-qoyhJeX"
      },
      "source": [
        "# <b><u> Project Title : Taxi trip time Prediction : Predicting total ride duration of taxi trips in New York City</u></b>"
      ]
    },
    {
      "cell_type": "markdown",
      "metadata": {
        "id": "Y06xIdG26kRF"
      },
      "source": [
        "## <b> Problem Description </b>\n",
        "\n",
        "### Your task is to build a model that predicts the total ride duration of taxi trips in New York City. Your primary dataset is one released by the NYC Taxi and Limousine Commission, which includes pickup time, geo-coordinates, number of passengers, and several other variables."
      ]
    },
    {
      "cell_type": "markdown",
      "metadata": {
        "id": "WWeU1f9bwqQq"
      },
      "source": [
        "## <b> Data Description </b>\n",
        "\n",
        "### The dataset is based on the 2016 NYC Yellow Cab trip record data made available in Big Query on Google Cloud Platform. The data was originally published by the NYC Taxi and Limousine Commission (TLC). The data was sampled and cleaned for the purposes of this project. Based on individual trip attributes, you should predict the duration of each trip in the test set.\n",
        "\n",
        "### <b>NYC Taxi Data.csv</b> - the training set (contains 1458644 trip records)\n",
        "\n",
        "\n",
        "### Data fields\n",
        "* #### id - a unique identifier for each trip\n",
        "* #### vendor_id - a code indicating the provider associated with the trip record\n",
        "* #### pickup_datetime - date and time when the meter was engaged\n",
        "* #### dropoff_datetime - date and time when the meter was disengaged\n",
        "* #### passenger_count - the number of passengers in the vehicle (driver entered value)\n",
        "* #### pickup_longitude - the longitude where the meter was engaged\n",
        "* #### pickup_latitude - the latitude where the meter was engaged\n",
        "* #### dropoff_longitude - the longitude where the meter was disengaged\n",
        "* #### dropoff_latitude - the latitude where the meter was disengaged\n",
        "* #### store_and_fwd_flag - This flag indicates whether the trip record was held in vehicle memory before sending to the vendor because the vehicle did not have a connection to the server - Y=store and forward; N=not a store and forward trip\n",
        "* #### trip_duration - duration of the trip in seconds"
      ]
    },
    {
      "cell_type": "markdown",
      "source": [
        "#### importing libraries"
      ],
      "metadata": {
        "id": "8zWmziyrACUM"
      }
    },
    {
      "cell_type": "code",
      "source": [
        "import numpy as np\n",
        "import pandas as pd\n",
        "import seaborn as sns\n",
        "import matplotlib.pyplot as plt\n",
        "import datetime as dt\n",
        "from sklearn.linear_model import LinearRegression\n",
        "from sklearn.ensemble import RandomForestRegressor\n",
        "from xgboost import XGBRegressor\n",
        "from sklearn import metrics\n",
        "from sklearn.model_selection import train_test_split, GridSearchCV\n",
        "import statsmodels.formula.api as sm\n",
        "from sklearn.model_selection import learning_curve\n",
        "from sklearn.model_selection import ShuffleSplit\n",
        "import warnings; warnings.simplefilter('ignore')\n"
      ],
      "metadata": {
        "colab": {
          "base_uri": "https://localhost:8080/"
        },
        "id": "fUGNP-yb_BeI",
        "outputId": "ce1acf0a-bcb1-47a2-c650-6ec8c3cbab42"
      },
      "execution_count": 1,
      "outputs": [
        {
          "output_type": "stream",
          "name": "stderr",
          "text": [
            "/usr/local/lib/python3.7/dist-packages/statsmodels/tools/_testing.py:19: FutureWarning: pandas.util.testing is deprecated. Use the functions in the public API at pandas.testing instead.\n",
            "  import pandas.util.testing as tm\n"
          ]
        }
      ]
    },
    {
      "cell_type": "code",
      "source": [
        "from google.colab import drive\n",
        "drive.mount('/content/drive')"
      ],
      "metadata": {
        "id": "BaU_ijjX-nFq",
        "outputId": "8645ab51-5066-4307-d6a9-ca74a3b9fffc",
        "colab": {
          "base_uri": "https://localhost:8080/"
        }
      },
      "execution_count": 2,
      "outputs": [
        {
          "output_type": "stream",
          "name": "stdout",
          "text": [
            "Drive already mounted at /content/drive; to attempt to forcibly remount, call drive.mount(\"/content/drive\", force_remount=True).\n"
          ]
        }
      ]
    },
    {
      "cell_type": "code",
      "metadata": {
        "id": "dByMsuzT8Tnw"
      },
      "source": [
        "# import Dataset\n",
        "df = pd.read_csv('/content/drive/MyDrive/Datasets/NYC Taxi Data (1).csv')"
      ],
      "execution_count": 3,
      "outputs": []
    },
    {
      "cell_type": "code",
      "source": [
        "# checking the shape of data\n",
        "df.shape"
      ],
      "metadata": {
        "colab": {
          "base_uri": "https://localhost:8080/"
        },
        "id": "MQpvdsG5-_ly",
        "outputId": "d7fc434b-bb16-4989-ac1f-f3b99d100904"
      },
      "execution_count": 4,
      "outputs": [
        {
          "output_type": "execute_result",
          "data": {
            "text/plain": [
              "(1458644, 11)"
            ]
          },
          "metadata": {},
          "execution_count": 4
        }
      ]
    },
    {
      "cell_type": "code",
      "source": [
        "# checking for null values\n",
        "df.isnull().sum()"
      ],
      "metadata": {
        "colab": {
          "base_uri": "https://localhost:8080/"
        },
        "id": "b5aDI-JgASg2",
        "outputId": "b0982d77-479b-4d70-a245-8a9096d98b59"
      },
      "execution_count": 5,
      "outputs": [
        {
          "output_type": "execute_result",
          "data": {
            "text/plain": [
              "id                    0\n",
              "vendor_id             0\n",
              "pickup_datetime       0\n",
              "dropoff_datetime      0\n",
              "passenger_count       0\n",
              "pickup_longitude      0\n",
              "pickup_latitude       0\n",
              "dropoff_longitude     0\n",
              "dropoff_latitude      0\n",
              "store_and_fwd_flag    0\n",
              "trip_duration         0\n",
              "dtype: int64"
            ]
          },
          "metadata": {},
          "execution_count": 5
        }
      ]
    },
    {
      "cell_type": "markdown",
      "source": [
        "##### There are no nan/null record in dataset. so we don't have to impute any record."
      ],
      "metadata": {
        "id": "QFZrJxXvAWLi"
      }
    },
    {
      "cell_type": "code",
      "source": [
        "df.info()"
      ],
      "metadata": {
        "colab": {
          "base_uri": "https://localhost:8080/"
        },
        "id": "UJP3_PkE_XLb",
        "outputId": "6fba5c42-af40-49e2-a6c8-bbb328676520"
      },
      "execution_count": 6,
      "outputs": [
        {
          "output_type": "stream",
          "name": "stdout",
          "text": [
            "<class 'pandas.core.frame.DataFrame'>\n",
            "RangeIndex: 1458644 entries, 0 to 1458643\n",
            "Data columns (total 11 columns):\n",
            " #   Column              Non-Null Count    Dtype  \n",
            "---  ------              --------------    -----  \n",
            " 0   id                  1458644 non-null  object \n",
            " 1   vendor_id           1458644 non-null  int64  \n",
            " 2   pickup_datetime     1458644 non-null  object \n",
            " 3   dropoff_datetime    1458644 non-null  object \n",
            " 4   passenger_count     1458644 non-null  int64  \n",
            " 5   pickup_longitude    1458644 non-null  float64\n",
            " 6   pickup_latitude     1458644 non-null  float64\n",
            " 7   dropoff_longitude   1458644 non-null  float64\n",
            " 8   dropoff_latitude    1458644 non-null  float64\n",
            " 9   store_and_fwd_flag  1458644 non-null  object \n",
            " 10  trip_duration       1458644 non-null  int64  \n",
            "dtypes: float64(4), int64(3), object(4)\n",
            "memory usage: 122.4+ MB\n"
          ]
        }
      ]
    },
    {
      "cell_type": "markdown",
      "source": [
        "#### pickup_datetime,drpoff_datetime are object datatype we have to covert them into datetime format."
      ],
      "metadata": {
        "id": "Gg0C50Ax_tOY"
      }
    },
    {
      "cell_type": "code",
      "source": [
        "# converting timestamp to datatime format\n",
        "df['pickup_datetime'] = pd.to_datetime(df['pickup_datetime'])\n",
        "df['dropoff_datetime'] = pd.to_datetime(df['dropoff_datetime'])"
      ],
      "metadata": {
        "id": "Rmxls8vu_qBe"
      },
      "execution_count": 7,
      "outputs": []
    },
    {
      "cell_type": "code",
      "source": [
        "df.info()"
      ],
      "metadata": {
        "colab": {
          "base_uri": "https://localhost:8080/"
        },
        "id": "vp-eKk_tA_UU",
        "outputId": "a8cebb7a-63c6-496d-dc5f-906b3b03e2c2"
      },
      "execution_count": 8,
      "outputs": [
        {
          "output_type": "stream",
          "name": "stdout",
          "text": [
            "<class 'pandas.core.frame.DataFrame'>\n",
            "RangeIndex: 1458644 entries, 0 to 1458643\n",
            "Data columns (total 11 columns):\n",
            " #   Column              Non-Null Count    Dtype         \n",
            "---  ------              --------------    -----         \n",
            " 0   id                  1458644 non-null  object        \n",
            " 1   vendor_id           1458644 non-null  int64         \n",
            " 2   pickup_datetime     1458644 non-null  datetime64[ns]\n",
            " 3   dropoff_datetime    1458644 non-null  datetime64[ns]\n",
            " 4   passenger_count     1458644 non-null  int64         \n",
            " 5   pickup_longitude    1458644 non-null  float64       \n",
            " 6   pickup_latitude     1458644 non-null  float64       \n",
            " 7   dropoff_longitude   1458644 non-null  float64       \n",
            " 8   dropoff_latitude    1458644 non-null  float64       \n",
            " 9   store_and_fwd_flag  1458644 non-null  object        \n",
            " 10  trip_duration       1458644 non-null  int64         \n",
            "dtypes: datetime64[ns](2), float64(4), int64(3), object(2)\n",
            "memory usage: 122.4+ MB\n"
          ]
        }
      ]
    },
    {
      "cell_type": "code",
      "source": [
        "df.head()"
      ],
      "metadata": {
        "colab": {
          "base_uri": "https://localhost:8080/",
          "height": 206
        },
        "id": "EwH0AtzJBXa_",
        "outputId": "bd9bf770-c246-499e-e8cb-c79e5a534109"
      },
      "execution_count": 9,
      "outputs": [
        {
          "output_type": "execute_result",
          "data": {
            "text/html": [
              "\n",
              "  <div id=\"df-66f08f66-f337-48bc-b87c-e06c03a5e0e7\">\n",
              "    <div class=\"colab-df-container\">\n",
              "      <div>\n",
              "<style scoped>\n",
              "    .dataframe tbody tr th:only-of-type {\n",
              "        vertical-align: middle;\n",
              "    }\n",
              "\n",
              "    .dataframe tbody tr th {\n",
              "        vertical-align: top;\n",
              "    }\n",
              "\n",
              "    .dataframe thead th {\n",
              "        text-align: right;\n",
              "    }\n",
              "</style>\n",
              "<table border=\"1\" class=\"dataframe\">\n",
              "  <thead>\n",
              "    <tr style=\"text-align: right;\">\n",
              "      <th></th>\n",
              "      <th>id</th>\n",
              "      <th>vendor_id</th>\n",
              "      <th>pickup_datetime</th>\n",
              "      <th>dropoff_datetime</th>\n",
              "      <th>passenger_count</th>\n",
              "      <th>pickup_longitude</th>\n",
              "      <th>pickup_latitude</th>\n",
              "      <th>dropoff_longitude</th>\n",
              "      <th>dropoff_latitude</th>\n",
              "      <th>store_and_fwd_flag</th>\n",
              "      <th>trip_duration</th>\n",
              "    </tr>\n",
              "  </thead>\n",
              "  <tbody>\n",
              "    <tr>\n",
              "      <th>0</th>\n",
              "      <td>id2875421</td>\n",
              "      <td>2</td>\n",
              "      <td>2016-03-14 17:24:55</td>\n",
              "      <td>2016-03-14 17:32:30</td>\n",
              "      <td>1</td>\n",
              "      <td>-73.982155</td>\n",
              "      <td>40.767937</td>\n",
              "      <td>-73.964630</td>\n",
              "      <td>40.765602</td>\n",
              "      <td>N</td>\n",
              "      <td>455</td>\n",
              "    </tr>\n",
              "    <tr>\n",
              "      <th>1</th>\n",
              "      <td>id2377394</td>\n",
              "      <td>1</td>\n",
              "      <td>2016-06-12 00:43:35</td>\n",
              "      <td>2016-06-12 00:54:38</td>\n",
              "      <td>1</td>\n",
              "      <td>-73.980415</td>\n",
              "      <td>40.738564</td>\n",
              "      <td>-73.999481</td>\n",
              "      <td>40.731152</td>\n",
              "      <td>N</td>\n",
              "      <td>663</td>\n",
              "    </tr>\n",
              "    <tr>\n",
              "      <th>2</th>\n",
              "      <td>id3858529</td>\n",
              "      <td>2</td>\n",
              "      <td>2016-01-19 11:35:24</td>\n",
              "      <td>2016-01-19 12:10:48</td>\n",
              "      <td>1</td>\n",
              "      <td>-73.979027</td>\n",
              "      <td>40.763939</td>\n",
              "      <td>-74.005333</td>\n",
              "      <td>40.710087</td>\n",
              "      <td>N</td>\n",
              "      <td>2124</td>\n",
              "    </tr>\n",
              "    <tr>\n",
              "      <th>3</th>\n",
              "      <td>id3504673</td>\n",
              "      <td>2</td>\n",
              "      <td>2016-04-06 19:32:31</td>\n",
              "      <td>2016-04-06 19:39:40</td>\n",
              "      <td>1</td>\n",
              "      <td>-74.010040</td>\n",
              "      <td>40.719971</td>\n",
              "      <td>-74.012268</td>\n",
              "      <td>40.706718</td>\n",
              "      <td>N</td>\n",
              "      <td>429</td>\n",
              "    </tr>\n",
              "    <tr>\n",
              "      <th>4</th>\n",
              "      <td>id2181028</td>\n",
              "      <td>2</td>\n",
              "      <td>2016-03-26 13:30:55</td>\n",
              "      <td>2016-03-26 13:38:10</td>\n",
              "      <td>1</td>\n",
              "      <td>-73.973053</td>\n",
              "      <td>40.793209</td>\n",
              "      <td>-73.972923</td>\n",
              "      <td>40.782520</td>\n",
              "      <td>N</td>\n",
              "      <td>435</td>\n",
              "    </tr>\n",
              "  </tbody>\n",
              "</table>\n",
              "</div>\n",
              "      <button class=\"colab-df-convert\" onclick=\"convertToInteractive('df-66f08f66-f337-48bc-b87c-e06c03a5e0e7')\"\n",
              "              title=\"Convert this dataframe to an interactive table.\"\n",
              "              style=\"display:none;\">\n",
              "        \n",
              "  <svg xmlns=\"http://www.w3.org/2000/svg\" height=\"24px\"viewBox=\"0 0 24 24\"\n",
              "       width=\"24px\">\n",
              "    <path d=\"M0 0h24v24H0V0z\" fill=\"none\"/>\n",
              "    <path d=\"M18.56 5.44l.94 2.06.94-2.06 2.06-.94-2.06-.94-.94-2.06-.94 2.06-2.06.94zm-11 1L8.5 8.5l.94-2.06 2.06-.94-2.06-.94L8.5 2.5l-.94 2.06-2.06.94zm10 10l.94 2.06.94-2.06 2.06-.94-2.06-.94-.94-2.06-.94 2.06-2.06.94z\"/><path d=\"M17.41 7.96l-1.37-1.37c-.4-.4-.92-.59-1.43-.59-.52 0-1.04.2-1.43.59L10.3 9.45l-7.72 7.72c-.78.78-.78 2.05 0 2.83L4 21.41c.39.39.9.59 1.41.59.51 0 1.02-.2 1.41-.59l7.78-7.78 2.81-2.81c.8-.78.8-2.07 0-2.86zM5.41 20L4 18.59l7.72-7.72 1.47 1.35L5.41 20z\"/>\n",
              "  </svg>\n",
              "      </button>\n",
              "      \n",
              "  <style>\n",
              "    .colab-df-container {\n",
              "      display:flex;\n",
              "      flex-wrap:wrap;\n",
              "      gap: 12px;\n",
              "    }\n",
              "\n",
              "    .colab-df-convert {\n",
              "      background-color: #E8F0FE;\n",
              "      border: none;\n",
              "      border-radius: 50%;\n",
              "      cursor: pointer;\n",
              "      display: none;\n",
              "      fill: #1967D2;\n",
              "      height: 32px;\n",
              "      padding: 0 0 0 0;\n",
              "      width: 32px;\n",
              "    }\n",
              "\n",
              "    .colab-df-convert:hover {\n",
              "      background-color: #E2EBFA;\n",
              "      box-shadow: 0px 1px 2px rgba(60, 64, 67, 0.3), 0px 1px 3px 1px rgba(60, 64, 67, 0.15);\n",
              "      fill: #174EA6;\n",
              "    }\n",
              "\n",
              "    [theme=dark] .colab-df-convert {\n",
              "      background-color: #3B4455;\n",
              "      fill: #D2E3FC;\n",
              "    }\n",
              "\n",
              "    [theme=dark] .colab-df-convert:hover {\n",
              "      background-color: #434B5C;\n",
              "      box-shadow: 0px 1px 3px 1px rgba(0, 0, 0, 0.15);\n",
              "      filter: drop-shadow(0px 1px 2px rgba(0, 0, 0, 0.3));\n",
              "      fill: #FFFFFF;\n",
              "    }\n",
              "  </style>\n",
              "\n",
              "      <script>\n",
              "        const buttonEl =\n",
              "          document.querySelector('#df-66f08f66-f337-48bc-b87c-e06c03a5e0e7 button.colab-df-convert');\n",
              "        buttonEl.style.display =\n",
              "          google.colab.kernel.accessAllowed ? 'block' : 'none';\n",
              "\n",
              "        async function convertToInteractive(key) {\n",
              "          const element = document.querySelector('#df-66f08f66-f337-48bc-b87c-e06c03a5e0e7');\n",
              "          const dataTable =\n",
              "            await google.colab.kernel.invokeFunction('convertToInteractive',\n",
              "                                                     [key], {});\n",
              "          if (!dataTable) return;\n",
              "\n",
              "          const docLinkHtml = 'Like what you see? Visit the ' +\n",
              "            '<a target=\"_blank\" href=https://colab.research.google.com/notebooks/data_table.ipynb>data table notebook</a>'\n",
              "            + ' to learn more about interactive tables.';\n",
              "          element.innerHTML = '';\n",
              "          dataTable['output_type'] = 'display_data';\n",
              "          await google.colab.output.renderOutput(dataTable, element);\n",
              "          const docLink = document.createElement('div');\n",
              "          docLink.innerHTML = docLinkHtml;\n",
              "          element.appendChild(docLink);\n",
              "        }\n",
              "      </script>\n",
              "    </div>\n",
              "  </div>\n",
              "  "
            ],
            "text/plain": [
              "          id  vendor_id  ... store_and_fwd_flag trip_duration\n",
              "0  id2875421          2  ...                  N           455\n",
              "1  id2377394          1  ...                  N           663\n",
              "2  id3858529          2  ...                  N          2124\n",
              "3  id3504673          2  ...                  N           429\n",
              "4  id2181028          2  ...                  N           435\n",
              "\n",
              "[5 rows x 11 columns]"
            ]
          },
          "metadata": {},
          "execution_count": 9
        }
      ]
    },
    {
      "cell_type": "code",
      "source": [
        "# extracting hour,month,weekday,weekday_number from datatime feature\n",
        "df['pickup_hour'] = df['pickup_datetime'].dt.hour\n",
        "df['pickup_month'] = df['pickup_datetime'].dt.month\n",
        "df['weekday_num'] = df['pickup_datetime'].dt.dayofweek\n",
        "df['weekday_day'] = df['pickup_datetime'].dt.day_name()"
      ],
      "metadata": {
        "id": "hSz2pB-nYAhQ"
      },
      "execution_count": 10,
      "outputs": []
    },
    {
      "cell_type": "code",
      "source": [
        "df.head()"
      ],
      "metadata": {
        "colab": {
          "base_uri": "https://localhost:8080/",
          "height": 357
        },
        "id": "bi7_vMSg7l3S",
        "outputId": "5549908b-2ee2-4de2-c761-638f1af733c0"
      },
      "execution_count": 11,
      "outputs": [
        {
          "output_type": "execute_result",
          "data": {
            "text/html": [
              "\n",
              "  <div id=\"df-10ae0106-1031-42ad-b89d-f385faaa50a2\">\n",
              "    <div class=\"colab-df-container\">\n",
              "      <div>\n",
              "<style scoped>\n",
              "    .dataframe tbody tr th:only-of-type {\n",
              "        vertical-align: middle;\n",
              "    }\n",
              "\n",
              "    .dataframe tbody tr th {\n",
              "        vertical-align: top;\n",
              "    }\n",
              "\n",
              "    .dataframe thead th {\n",
              "        text-align: right;\n",
              "    }\n",
              "</style>\n",
              "<table border=\"1\" class=\"dataframe\">\n",
              "  <thead>\n",
              "    <tr style=\"text-align: right;\">\n",
              "      <th></th>\n",
              "      <th>id</th>\n",
              "      <th>vendor_id</th>\n",
              "      <th>pickup_datetime</th>\n",
              "      <th>dropoff_datetime</th>\n",
              "      <th>passenger_count</th>\n",
              "      <th>pickup_longitude</th>\n",
              "      <th>pickup_latitude</th>\n",
              "      <th>dropoff_longitude</th>\n",
              "      <th>dropoff_latitude</th>\n",
              "      <th>store_and_fwd_flag</th>\n",
              "      <th>trip_duration</th>\n",
              "      <th>pickup_hour</th>\n",
              "      <th>pickup_month</th>\n",
              "      <th>weekday_num</th>\n",
              "      <th>weekday_day</th>\n",
              "    </tr>\n",
              "  </thead>\n",
              "  <tbody>\n",
              "    <tr>\n",
              "      <th>0</th>\n",
              "      <td>id2875421</td>\n",
              "      <td>2</td>\n",
              "      <td>2016-03-14 17:24:55</td>\n",
              "      <td>2016-03-14 17:32:30</td>\n",
              "      <td>1</td>\n",
              "      <td>-73.982155</td>\n",
              "      <td>40.767937</td>\n",
              "      <td>-73.964630</td>\n",
              "      <td>40.765602</td>\n",
              "      <td>N</td>\n",
              "      <td>455</td>\n",
              "      <td>17</td>\n",
              "      <td>3</td>\n",
              "      <td>0</td>\n",
              "      <td>Monday</td>\n",
              "    </tr>\n",
              "    <tr>\n",
              "      <th>1</th>\n",
              "      <td>id2377394</td>\n",
              "      <td>1</td>\n",
              "      <td>2016-06-12 00:43:35</td>\n",
              "      <td>2016-06-12 00:54:38</td>\n",
              "      <td>1</td>\n",
              "      <td>-73.980415</td>\n",
              "      <td>40.738564</td>\n",
              "      <td>-73.999481</td>\n",
              "      <td>40.731152</td>\n",
              "      <td>N</td>\n",
              "      <td>663</td>\n",
              "      <td>0</td>\n",
              "      <td>6</td>\n",
              "      <td>6</td>\n",
              "      <td>Sunday</td>\n",
              "    </tr>\n",
              "    <tr>\n",
              "      <th>2</th>\n",
              "      <td>id3858529</td>\n",
              "      <td>2</td>\n",
              "      <td>2016-01-19 11:35:24</td>\n",
              "      <td>2016-01-19 12:10:48</td>\n",
              "      <td>1</td>\n",
              "      <td>-73.979027</td>\n",
              "      <td>40.763939</td>\n",
              "      <td>-74.005333</td>\n",
              "      <td>40.710087</td>\n",
              "      <td>N</td>\n",
              "      <td>2124</td>\n",
              "      <td>11</td>\n",
              "      <td>1</td>\n",
              "      <td>1</td>\n",
              "      <td>Tuesday</td>\n",
              "    </tr>\n",
              "    <tr>\n",
              "      <th>3</th>\n",
              "      <td>id3504673</td>\n",
              "      <td>2</td>\n",
              "      <td>2016-04-06 19:32:31</td>\n",
              "      <td>2016-04-06 19:39:40</td>\n",
              "      <td>1</td>\n",
              "      <td>-74.010040</td>\n",
              "      <td>40.719971</td>\n",
              "      <td>-74.012268</td>\n",
              "      <td>40.706718</td>\n",
              "      <td>N</td>\n",
              "      <td>429</td>\n",
              "      <td>19</td>\n",
              "      <td>4</td>\n",
              "      <td>2</td>\n",
              "      <td>Wednesday</td>\n",
              "    </tr>\n",
              "    <tr>\n",
              "      <th>4</th>\n",
              "      <td>id2181028</td>\n",
              "      <td>2</td>\n",
              "      <td>2016-03-26 13:30:55</td>\n",
              "      <td>2016-03-26 13:38:10</td>\n",
              "      <td>1</td>\n",
              "      <td>-73.973053</td>\n",
              "      <td>40.793209</td>\n",
              "      <td>-73.972923</td>\n",
              "      <td>40.782520</td>\n",
              "      <td>N</td>\n",
              "      <td>435</td>\n",
              "      <td>13</td>\n",
              "      <td>3</td>\n",
              "      <td>5</td>\n",
              "      <td>Saturday</td>\n",
              "    </tr>\n",
              "  </tbody>\n",
              "</table>\n",
              "</div>\n",
              "      <button class=\"colab-df-convert\" onclick=\"convertToInteractive('df-10ae0106-1031-42ad-b89d-f385faaa50a2')\"\n",
              "              title=\"Convert this dataframe to an interactive table.\"\n",
              "              style=\"display:none;\">\n",
              "        \n",
              "  <svg xmlns=\"http://www.w3.org/2000/svg\" height=\"24px\"viewBox=\"0 0 24 24\"\n",
              "       width=\"24px\">\n",
              "    <path d=\"M0 0h24v24H0V0z\" fill=\"none\"/>\n",
              "    <path d=\"M18.56 5.44l.94 2.06.94-2.06 2.06-.94-2.06-.94-.94-2.06-.94 2.06-2.06.94zm-11 1L8.5 8.5l.94-2.06 2.06-.94-2.06-.94L8.5 2.5l-.94 2.06-2.06.94zm10 10l.94 2.06.94-2.06 2.06-.94-2.06-.94-.94-2.06-.94 2.06-2.06.94z\"/><path d=\"M17.41 7.96l-1.37-1.37c-.4-.4-.92-.59-1.43-.59-.52 0-1.04.2-1.43.59L10.3 9.45l-7.72 7.72c-.78.78-.78 2.05 0 2.83L4 21.41c.39.39.9.59 1.41.59.51 0 1.02-.2 1.41-.59l7.78-7.78 2.81-2.81c.8-.78.8-2.07 0-2.86zM5.41 20L4 18.59l7.72-7.72 1.47 1.35L5.41 20z\"/>\n",
              "  </svg>\n",
              "      </button>\n",
              "      \n",
              "  <style>\n",
              "    .colab-df-container {\n",
              "      display:flex;\n",
              "      flex-wrap:wrap;\n",
              "      gap: 12px;\n",
              "    }\n",
              "\n",
              "    .colab-df-convert {\n",
              "      background-color: #E8F0FE;\n",
              "      border: none;\n",
              "      border-radius: 50%;\n",
              "      cursor: pointer;\n",
              "      display: none;\n",
              "      fill: #1967D2;\n",
              "      height: 32px;\n",
              "      padding: 0 0 0 0;\n",
              "      width: 32px;\n",
              "    }\n",
              "\n",
              "    .colab-df-convert:hover {\n",
              "      background-color: #E2EBFA;\n",
              "      box-shadow: 0px 1px 2px rgba(60, 64, 67, 0.3), 0px 1px 3px 1px rgba(60, 64, 67, 0.15);\n",
              "      fill: #174EA6;\n",
              "    }\n",
              "\n",
              "    [theme=dark] .colab-df-convert {\n",
              "      background-color: #3B4455;\n",
              "      fill: #D2E3FC;\n",
              "    }\n",
              "\n",
              "    [theme=dark] .colab-df-convert:hover {\n",
              "      background-color: #434B5C;\n",
              "      box-shadow: 0px 1px 3px 1px rgba(0, 0, 0, 0.15);\n",
              "      filter: drop-shadow(0px 1px 2px rgba(0, 0, 0, 0.3));\n",
              "      fill: #FFFFFF;\n",
              "    }\n",
              "  </style>\n",
              "\n",
              "      <script>\n",
              "        const buttonEl =\n",
              "          document.querySelector('#df-10ae0106-1031-42ad-b89d-f385faaa50a2 button.colab-df-convert');\n",
              "        buttonEl.style.display =\n",
              "          google.colab.kernel.accessAllowed ? 'block' : 'none';\n",
              "\n",
              "        async function convertToInteractive(key) {\n",
              "          const element = document.querySelector('#df-10ae0106-1031-42ad-b89d-f385faaa50a2');\n",
              "          const dataTable =\n",
              "            await google.colab.kernel.invokeFunction('convertToInteractive',\n",
              "                                                     [key], {});\n",
              "          if (!dataTable) return;\n",
              "\n",
              "          const docLinkHtml = 'Like what you see? Visit the ' +\n",
              "            '<a target=\"_blank\" href=https://colab.research.google.com/notebooks/data_table.ipynb>data table notebook</a>'\n",
              "            + ' to learn more about interactive tables.';\n",
              "          element.innerHTML = '';\n",
              "          dataTable['output_type'] = 'display_data';\n",
              "          await google.colab.output.renderOutput(dataTable, element);\n",
              "          const docLink = document.createElement('div');\n",
              "          docLink.innerHTML = docLinkHtml;\n",
              "          element.appendChild(docLink);\n",
              "        }\n",
              "      </script>\n",
              "    </div>\n",
              "  </div>\n",
              "  "
            ],
            "text/plain": [
              "          id  vendor_id  ... weekday_num weekday_day\n",
              "0  id2875421          2  ...           0      Monday\n",
              "1  id2377394          1  ...           6      Sunday\n",
              "2  id3858529          2  ...           1     Tuesday\n",
              "3  id3504673          2  ...           2   Wednesday\n",
              "4  id2181028          2  ...           5    Saturday\n",
              "\n",
              "[5 rows x 15 columns]"
            ]
          },
          "metadata": {},
          "execution_count": 11
        }
      ]
    },
    {
      "cell_type": "code",
      "source": [
        "!pip install haversine"
      ],
      "metadata": {
        "colab": {
          "base_uri": "https://localhost:8080/"
        },
        "id": "Bc8kk23_7oQG",
        "outputId": "bf617d50-8730-4485-e5d5-4ca3b4a70bee"
      },
      "execution_count": 12,
      "outputs": [
        {
          "output_type": "stream",
          "name": "stdout",
          "text": [
            "Requirement already satisfied: haversine in /usr/local/lib/python3.7/dist-packages (2.5.1)\n"
          ]
        }
      ]
    },
    {
      "cell_type": "code",
      "source": [
        "import haversine as hs"
      ],
      "metadata": {
        "id": "NSwC1yaO-A0s"
      },
      "execution_count": 13,
      "outputs": []
    },
    {
      "cell_type": "code",
      "source": [
        "# function for calculating distance\n",
        "def calculate_distance(df):\n",
        "  pickup = (df['pickup_latitude'],df['pickup_longitude'])\n",
        "  drop = (df['dropoff_latitude'],df['dropoff_longitude'])\n",
        "  return hs.haversine(pickup,drop)"
      ],
      "metadata": {
        "id": "ygtFZFJO-FsB"
      },
      "execution_count": 14,
      "outputs": []
    },
    {
      "cell_type": "code",
      "source": [
        "# calculating distance \n",
        "df['distance'] = df.apply(lambda x : calculate_distance(x),axis=1)"
      ],
      "metadata": {
        "id": "f8AQhk0J_FgE"
      },
      "execution_count": 15,
      "outputs": []
    },
    {
      "cell_type": "code",
      "source": [
        "#Calculate Speed in km/h for further insights\n",
        "df['speed'] = round((df.distance/(df.trip_duration/3600)),2)"
      ],
      "metadata": {
        "id": "YyECsIPJ0EXe"
      },
      "execution_count": 16,
      "outputs": []
    },
    {
      "cell_type": "code",
      "source": [
        "df.head()"
      ],
      "metadata": {
        "colab": {
          "base_uri": "https://localhost:8080/",
          "height": 357
        },
        "id": "xhwS074o_cCQ",
        "outputId": "01bb020e-6011-4fea-81ac-e82f4dcd43b4"
      },
      "execution_count": 17,
      "outputs": [
        {
          "output_type": "execute_result",
          "data": {
            "text/html": [
              "\n",
              "  <div id=\"df-ea92bade-119e-46a1-bc97-8d7c880d4f67\">\n",
              "    <div class=\"colab-df-container\">\n",
              "      <div>\n",
              "<style scoped>\n",
              "    .dataframe tbody tr th:only-of-type {\n",
              "        vertical-align: middle;\n",
              "    }\n",
              "\n",
              "    .dataframe tbody tr th {\n",
              "        vertical-align: top;\n",
              "    }\n",
              "\n",
              "    .dataframe thead th {\n",
              "        text-align: right;\n",
              "    }\n",
              "</style>\n",
              "<table border=\"1\" class=\"dataframe\">\n",
              "  <thead>\n",
              "    <tr style=\"text-align: right;\">\n",
              "      <th></th>\n",
              "      <th>id</th>\n",
              "      <th>vendor_id</th>\n",
              "      <th>pickup_datetime</th>\n",
              "      <th>dropoff_datetime</th>\n",
              "      <th>passenger_count</th>\n",
              "      <th>pickup_longitude</th>\n",
              "      <th>pickup_latitude</th>\n",
              "      <th>dropoff_longitude</th>\n",
              "      <th>dropoff_latitude</th>\n",
              "      <th>store_and_fwd_flag</th>\n",
              "      <th>trip_duration</th>\n",
              "      <th>pickup_hour</th>\n",
              "      <th>pickup_month</th>\n",
              "      <th>weekday_num</th>\n",
              "      <th>weekday_day</th>\n",
              "      <th>distance</th>\n",
              "      <th>speed</th>\n",
              "    </tr>\n",
              "  </thead>\n",
              "  <tbody>\n",
              "    <tr>\n",
              "      <th>0</th>\n",
              "      <td>id2875421</td>\n",
              "      <td>2</td>\n",
              "      <td>2016-03-14 17:24:55</td>\n",
              "      <td>2016-03-14 17:32:30</td>\n",
              "      <td>1</td>\n",
              "      <td>-73.982155</td>\n",
              "      <td>40.767937</td>\n",
              "      <td>-73.964630</td>\n",
              "      <td>40.765602</td>\n",
              "      <td>N</td>\n",
              "      <td>455</td>\n",
              "      <td>17</td>\n",
              "      <td>3</td>\n",
              "      <td>0</td>\n",
              "      <td>Monday</td>\n",
              "      <td>1.498523</td>\n",
              "      <td>11.86</td>\n",
              "    </tr>\n",
              "    <tr>\n",
              "      <th>1</th>\n",
              "      <td>id2377394</td>\n",
              "      <td>1</td>\n",
              "      <td>2016-06-12 00:43:35</td>\n",
              "      <td>2016-06-12 00:54:38</td>\n",
              "      <td>1</td>\n",
              "      <td>-73.980415</td>\n",
              "      <td>40.738564</td>\n",
              "      <td>-73.999481</td>\n",
              "      <td>40.731152</td>\n",
              "      <td>N</td>\n",
              "      <td>663</td>\n",
              "      <td>0</td>\n",
              "      <td>6</td>\n",
              "      <td>6</td>\n",
              "      <td>Sunday</td>\n",
              "      <td>1.805510</td>\n",
              "      <td>9.80</td>\n",
              "    </tr>\n",
              "    <tr>\n",
              "      <th>2</th>\n",
              "      <td>id3858529</td>\n",
              "      <td>2</td>\n",
              "      <td>2016-01-19 11:35:24</td>\n",
              "      <td>2016-01-19 12:10:48</td>\n",
              "      <td>1</td>\n",
              "      <td>-73.979027</td>\n",
              "      <td>40.763939</td>\n",
              "      <td>-74.005333</td>\n",
              "      <td>40.710087</td>\n",
              "      <td>N</td>\n",
              "      <td>2124</td>\n",
              "      <td>11</td>\n",
              "      <td>1</td>\n",
              "      <td>1</td>\n",
              "      <td>Tuesday</td>\n",
              "      <td>6.385107</td>\n",
              "      <td>10.82</td>\n",
              "    </tr>\n",
              "    <tr>\n",
              "      <th>3</th>\n",
              "      <td>id3504673</td>\n",
              "      <td>2</td>\n",
              "      <td>2016-04-06 19:32:31</td>\n",
              "      <td>2016-04-06 19:39:40</td>\n",
              "      <td>1</td>\n",
              "      <td>-74.010040</td>\n",
              "      <td>40.719971</td>\n",
              "      <td>-74.012268</td>\n",
              "      <td>40.706718</td>\n",
              "      <td>N</td>\n",
              "      <td>429</td>\n",
              "      <td>19</td>\n",
              "      <td>4</td>\n",
              "      <td>2</td>\n",
              "      <td>Wednesday</td>\n",
              "      <td>1.485500</td>\n",
              "      <td>12.47</td>\n",
              "    </tr>\n",
              "    <tr>\n",
              "      <th>4</th>\n",
              "      <td>id2181028</td>\n",
              "      <td>2</td>\n",
              "      <td>2016-03-26 13:30:55</td>\n",
              "      <td>2016-03-26 13:38:10</td>\n",
              "      <td>1</td>\n",
              "      <td>-73.973053</td>\n",
              "      <td>40.793209</td>\n",
              "      <td>-73.972923</td>\n",
              "      <td>40.782520</td>\n",
              "      <td>N</td>\n",
              "      <td>435</td>\n",
              "      <td>13</td>\n",
              "      <td>3</td>\n",
              "      <td>5</td>\n",
              "      <td>Saturday</td>\n",
              "      <td>1.188590</td>\n",
              "      <td>9.84</td>\n",
              "    </tr>\n",
              "  </tbody>\n",
              "</table>\n",
              "</div>\n",
              "      <button class=\"colab-df-convert\" onclick=\"convertToInteractive('df-ea92bade-119e-46a1-bc97-8d7c880d4f67')\"\n",
              "              title=\"Convert this dataframe to an interactive table.\"\n",
              "              style=\"display:none;\">\n",
              "        \n",
              "  <svg xmlns=\"http://www.w3.org/2000/svg\" height=\"24px\"viewBox=\"0 0 24 24\"\n",
              "       width=\"24px\">\n",
              "    <path d=\"M0 0h24v24H0V0z\" fill=\"none\"/>\n",
              "    <path d=\"M18.56 5.44l.94 2.06.94-2.06 2.06-.94-2.06-.94-.94-2.06-.94 2.06-2.06.94zm-11 1L8.5 8.5l.94-2.06 2.06-.94-2.06-.94L8.5 2.5l-.94 2.06-2.06.94zm10 10l.94 2.06.94-2.06 2.06-.94-2.06-.94-.94-2.06-.94 2.06-2.06.94z\"/><path d=\"M17.41 7.96l-1.37-1.37c-.4-.4-.92-.59-1.43-.59-.52 0-1.04.2-1.43.59L10.3 9.45l-7.72 7.72c-.78.78-.78 2.05 0 2.83L4 21.41c.39.39.9.59 1.41.59.51 0 1.02-.2 1.41-.59l7.78-7.78 2.81-2.81c.8-.78.8-2.07 0-2.86zM5.41 20L4 18.59l7.72-7.72 1.47 1.35L5.41 20z\"/>\n",
              "  </svg>\n",
              "      </button>\n",
              "      \n",
              "  <style>\n",
              "    .colab-df-container {\n",
              "      display:flex;\n",
              "      flex-wrap:wrap;\n",
              "      gap: 12px;\n",
              "    }\n",
              "\n",
              "    .colab-df-convert {\n",
              "      background-color: #E8F0FE;\n",
              "      border: none;\n",
              "      border-radius: 50%;\n",
              "      cursor: pointer;\n",
              "      display: none;\n",
              "      fill: #1967D2;\n",
              "      height: 32px;\n",
              "      padding: 0 0 0 0;\n",
              "      width: 32px;\n",
              "    }\n",
              "\n",
              "    .colab-df-convert:hover {\n",
              "      background-color: #E2EBFA;\n",
              "      box-shadow: 0px 1px 2px rgba(60, 64, 67, 0.3), 0px 1px 3px 1px rgba(60, 64, 67, 0.15);\n",
              "      fill: #174EA6;\n",
              "    }\n",
              "\n",
              "    [theme=dark] .colab-df-convert {\n",
              "      background-color: #3B4455;\n",
              "      fill: #D2E3FC;\n",
              "    }\n",
              "\n",
              "    [theme=dark] .colab-df-convert:hover {\n",
              "      background-color: #434B5C;\n",
              "      box-shadow: 0px 1px 3px 1px rgba(0, 0, 0, 0.15);\n",
              "      filter: drop-shadow(0px 1px 2px rgba(0, 0, 0, 0.3));\n",
              "      fill: #FFFFFF;\n",
              "    }\n",
              "  </style>\n",
              "\n",
              "      <script>\n",
              "        const buttonEl =\n",
              "          document.querySelector('#df-ea92bade-119e-46a1-bc97-8d7c880d4f67 button.colab-df-convert');\n",
              "        buttonEl.style.display =\n",
              "          google.colab.kernel.accessAllowed ? 'block' : 'none';\n",
              "\n",
              "        async function convertToInteractive(key) {\n",
              "          const element = document.querySelector('#df-ea92bade-119e-46a1-bc97-8d7c880d4f67');\n",
              "          const dataTable =\n",
              "            await google.colab.kernel.invokeFunction('convertToInteractive',\n",
              "                                                     [key], {});\n",
              "          if (!dataTable) return;\n",
              "\n",
              "          const docLinkHtml = 'Like what you see? Visit the ' +\n",
              "            '<a target=\"_blank\" href=https://colab.research.google.com/notebooks/data_table.ipynb>data table notebook</a>'\n",
              "            + ' to learn more about interactive tables.';\n",
              "          element.innerHTML = '';\n",
              "          dataTable['output_type'] = 'display_data';\n",
              "          await google.colab.output.renderOutput(dataTable, element);\n",
              "          const docLink = document.createElement('div');\n",
              "          docLink.innerHTML = docLinkHtml;\n",
              "          element.appendChild(docLink);\n",
              "        }\n",
              "      </script>\n",
              "    </div>\n",
              "  </div>\n",
              "  "
            ],
            "text/plain": [
              "          id  vendor_id     pickup_datetime  ... weekday_day  distance  speed\n",
              "0  id2875421          2 2016-03-14 17:24:55  ...      Monday  1.498523  11.86\n",
              "1  id2377394          1 2016-06-12 00:43:35  ...      Sunday  1.805510   9.80\n",
              "2  id3858529          2 2016-01-19 11:35:24  ...     Tuesday  6.385107  10.82\n",
              "3  id3504673          2 2016-04-06 19:32:31  ...   Wednesday  1.485500  12.47\n",
              "4  id2181028          2 2016-03-26 13:30:55  ...    Saturday  1.188590   9.84\n",
              "\n",
              "[5 rows x 17 columns]"
            ]
          },
          "metadata": {},
          "execution_count": 17
        }
      ]
    },
    {
      "cell_type": "markdown",
      "source": [
        "#Univeriate Analysis"
      ],
      "metadata": {
        "id": "oUmWc7jNQpl8"
      }
    },
    {
      "cell_type": "code",
      "source": [
        ""
      ],
      "metadata": {
        "id": "WwQJl67fTc8U"
      },
      "execution_count": 17,
      "outputs": []
    },
    {
      "cell_type": "code",
      "source": [
        ""
      ],
      "metadata": {
        "id": "EU6oQ821Tc5t"
      },
      "execution_count": 17,
      "outputs": []
    },
    {
      "cell_type": "markdown",
      "source": [
        "##Vendor ID"
      ],
      "metadata": {
        "id": "ydie-fcJTUGq"
      }
    },
    {
      "cell_type": "code",
      "source": [
        "# finding which vender have large market share\n",
        "plt.figure(figsize=(10,5))\n",
        "ax = sns.countplot(df['vendor_id'])\n",
        "for p in ax.patches:\n",
        "    ax.annotate(f'\\n{p.get_height()}', (p.get_x()+0.2, p.get_height()), va='top', color='black', size=13)\n",
        "plt.title('Distribution of Vendor_ID',fontsize=20)\n",
        "plt.show()"
      ],
      "metadata": {
        "colab": {
          "base_uri": "https://localhost:8080/",
          "height": 356
        },
        "id": "dwJ7EAC8_zmf",
        "outputId": "da93610f-8729-43cf-d356-dcc7c194237d"
      },
      "execution_count": 18,
      "outputs": [
        {
          "output_type": "display_data",
          "data": {
            "image/png": "[encoded data removed]",
            "text/plain": [
              "<Figure size 720x360 with 1 Axes>"
            ]
          },
          "metadata": {
            "needs_background": "light"
          }
        }
      ]
    },
    {
      "cell_type": "markdown",
      "source": [
        "#### vender with id 2 has large market share than vender with id 1"
      ],
      "metadata": {
        "id": "smfxjfiRKQhc"
      }
    },
    {
      "cell_type": "markdown",
      "source": [
        "##Store_and_fwd_flag"
      ],
      "metadata": {
        "id": "CENiXt8zTrMs"
      }
    },
    {
      "cell_type": "code",
      "source": [
        "# finding frequency of trip according to trip record was held in vehicle or not \n",
        "plt.figure(figsize=(10,7))\n",
        "ax = sns.countplot(df['store_and_fwd_flag'])\n",
        "for p in ax.patches:\n",
        "    ax.annotate(f'\\n{p.get_height()}', (p.get_x()+0.2, p.get_height()), color='black', size=13)\n",
        "plt.title('Distribution of store_and_fwd_flag',fontsize=20)\n",
        "plt.show()"
      ],
      "metadata": {
        "colab": {
          "base_uri": "https://localhost:8080/",
          "height": 464
        },
        "id": "9W3tpABMNz9R",
        "outputId": "ea8f0c7b-0ab4-4354-f4f0-1bec425014eb"
      },
      "execution_count": 19,
      "outputs": [
        {
          "output_type": "display_data",
          "data": {
            "image/png": "[encoded data removed]",
            "text/plain": [
              "<Figure size 720x504 with 1 Axes>"
            ]
          },
          "metadata": {
            "needs_background": "light"
          }
        }
      ]
    },
    {
      "cell_type": "code",
      "source": [
        "round(df['store_and_fwd_flag'].value_counts(normalize=True),2)"
      ],
      "metadata": {
        "colab": {
          "base_uri": "https://localhost:8080/"
        },
        "id": "N7Qgy3UsVFsb",
        "outputId": "8e851ba2-d32a-409e-8bc0-34af5df6a091"
      },
      "execution_count": 20,
      "outputs": [
        {
          "output_type": "execute_result",
          "data": {
            "text/plain": [
              "N    0.99\n",
              "Y    0.01\n",
              "Name: store_and_fwd_flag, dtype: float64"
            ]
          },
          "metadata": {},
          "execution_count": 20
        }
      ]
    },
    {
      "cell_type": "markdown",
      "source": [
        "#### Above result shows that only about 1% of the trip details were stored in the vehicle first before sending it to the server."
      ],
      "metadata": {
        "id": "WOkT7nw4ValL"
      }
    },
    {
      "cell_type": "markdown",
      "source": [
        "##PickUp Hour"
      ],
      "metadata": {
        "id": "FyOIP9ywTx9V"
      }
    },
    {
      "cell_type": "code",
      "source": [
        "# visualization of frequency of trip according to pick_hour\n",
        "plt.figure(figsize=(10,7))\n",
        "sns.countplot(df['pickup_hour'])\n",
        "plt.title('Distribution of pickup_hour',fontsize=20)"
      ],
      "metadata": {
        "colab": {
          "base_uri": "https://localhost:8080/",
          "height": 483
        },
        "id": "Im_loffcO5nU",
        "outputId": "f45beaa0-c250-425b-cf12-288f1cd41862"
      },
      "execution_count": 21,
      "outputs": [
        {
          "output_type": "execute_result",
          "data": {
            "text/plain": [
              "Text(0.5, 1.0, 'Distribution of pickup_hour')"
            ]
          },
          "metadata": {},
          "execution_count": 21
        },
        {
          "output_type": "display_data",
          "data": {
            "image/png": "[encoded data removed]",
            "text/plain": [
              "<Figure size 720x504 with 1 Axes>"
            ]
          },
          "metadata": {
            "needs_background": "light"
          }
        }
      ]
    },
    {
      "cell_type": "markdown",
      "source": [
        "#### pickup hour is on its peak at 18 to 22 hour (evening) ,followed by 12 to 15 (Afternoon).\n",
        "#### and pickup hour is on its lowest at 4 to 5 hour (early morning)."
      ],
      "metadata": {
        "id": "QuIkZ9-XFQtS"
      }
    },
    {
      "cell_type": "code",
      "source": [
        "# frequency of trip according to pick_hour\n",
        "df['pickup_hour'].value_counts()"
      ],
      "metadata": {
        "colab": {
          "base_uri": "https://localhost:8080/"
        },
        "id": "s0dbp5HaN9Wm",
        "outputId": "bc4a5172-e36a-4922-8b6c-b935ce043175"
      },
      "execution_count": 22,
      "outputs": [
        {
          "output_type": "execute_result",
          "data": {
            "text/plain": [
              "18    90600\n",
              "19    90308\n",
              "21    84185\n",
              "20    84072\n",
              "22    80492\n",
              "17    76483\n",
              "14    74292\n",
              "12    71873\n",
              "15    71811\n",
              "13    71473\n",
              "23    69785\n",
              "11    68476\n",
              "9     67663\n",
              "8     67053\n",
              "10    65437\n",
              "16    64313\n",
              "7     55600\n",
              "0     53248\n",
              "1     38571\n",
              "6     33248\n",
              "2     27972\n",
              "3     20895\n",
              "4     15792\n",
              "5     15002\n",
              "Name: pickup_hour, dtype: int64"
            ]
          },
          "metadata": {},
          "execution_count": 22
        }
      ]
    },
    {
      "cell_type": "markdown",
      "source": [
        "##PickUP Month"
      ],
      "metadata": {
        "id": "ghVIYFk2T162"
      }
    },
    {
      "cell_type": "code",
      "source": [
        "# visualization of frequency of trip according to month\n",
        "plt.figure(figsize=(10,5))\n",
        "ax = sns.countplot(df['pickup_month'])\n",
        "for p in ax.patches:\n",
        "    ax.annotate(f'\\n{p.get_height()}', (p.get_x()+0.2, p.get_height()), color='black', size=13)\n",
        "plt.title('Distribution of pickup_month',fontsize=20)\n",
        "plt.show()"
      ],
      "metadata": {
        "colab": {
          "base_uri": "https://localhost:8080/",
          "height": 356
        },
        "id": "rsBnJPNEO_Jn",
        "outputId": "ef8b0de5-2347-4df1-fafc-ce7c225834fc"
      },
      "execution_count": 23,
      "outputs": [
        {
          "output_type": "display_data",
          "data": {
            "image/png": "[encoded data removed]",
            "text/plain": [
              "<Figure size 720x360 with 1 Axes>"
            ]
          },
          "metadata": {
            "needs_background": "light"
          }
        }
      ]
    },
    {
      "cell_type": "markdown",
      "source": [
        "####dropoff_datetime has a extra month compared to pickup_datetime column with only 127 observatons when dropoff_datetime month is 7 , this is becuase people have taken ride at late night of last date of 6th month."
      ],
      "metadata": {
        "id": "0shdWoKkPbh3"
      }
    },
    {
      "cell_type": "markdown",
      "source": [
        "#### Trip accross the month is nearly balanced"
      ],
      "metadata": {
        "id": "_4LDikCpEy2m"
      }
    },
    {
      "cell_type": "markdown",
      "source": [
        "##WeekDays"
      ],
      "metadata": {
        "id": "7iPST_tFT5T5"
      }
    },
    {
      "cell_type": "code",
      "source": [
        "# visualization of trip frequancy according to weekday\n",
        "plt.figure(figsize=(10,5))\n",
        "ax = sns.countplot(df['weekday_day'],order=[\"Monday\", \"Tuesday\", \"Wednesday\", \"Thursday\", \"Friday\", \"Saturday\",\"Sunday\"])\n",
        "for p in ax.patches:\n",
        "    ax.annotate(f'\\n{p.get_height()}', (p.get_x()+0.2, p.get_height()), color='black', size=13)\n",
        "plt.title('Distribution of weekday_day',fontsize=20)\n",
        "plt.show()"
      ],
      "metadata": {
        "colab": {
          "base_uri": "https://localhost:8080/",
          "height": 356
        },
        "id": "6sJKiKhI-107",
        "outputId": "6c74b799-0b13-4c1f-b8d0-e65eed64aad9"
      },
      "execution_count": 24,
      "outputs": [
        {
          "output_type": "display_data",
          "data": {
            "image/png": "[encoded data removed]",
            "text/plain": [
              "<Figure size 720x360 with 1 Axes>"
            ]
          },
          "metadata": {
            "needs_background": "light"
          }
        }
      ]
    },
    {
      "cell_type": "markdown",
      "source": [
        "#####Here we can see an increasing trend of taxi pickups starting from Monday till Friday. The trend starts declining from saturday till monday which is normal where some office going people likes to stay at home for rest on the weekends."
      ],
      "metadata": {
        "id": "kA9MU1nlCuKs"
      }
    },
    {
      "cell_type": "code",
      "source": [
        "df.head()"
      ],
      "metadata": {
        "colab": {
          "base_uri": "https://localhost:8080/",
          "height": 357
        },
        "id": "XNvqeC5lPQbS",
        "outputId": "c9841b1b-f26c-4150-fb57-afc129617b28"
      },
      "execution_count": 25,
      "outputs": [
        {
          "output_type": "execute_result",
          "data": {
            "text/html": [
              "\n",
              "  <div id=\"df-e1228b0e-a783-40cb-96ff-74b41ebbb64b\">\n",
              "    <div class=\"colab-df-container\">\n",
              "      <div>\n",
              "<style scoped>\n",
              "    .dataframe tbody tr th:only-of-type {\n",
              "        vertical-align: middle;\n",
              "    }\n",
              "\n",
              "    .dataframe tbody tr th {\n",
              "        vertical-align: top;\n",
              "    }\n",
              "\n",
              "    .dataframe thead th {\n",
              "        text-align: right;\n",
              "    }\n",
              "</style>\n",
              "<table border=\"1\" class=\"dataframe\">\n",
              "  <thead>\n",
              "    <tr style=\"text-align: right;\">\n",
              "      <th></th>\n",
              "      <th>id</th>\n",
              "      <th>vendor_id</th>\n",
              "      <th>pickup_datetime</th>\n",
              "      <th>dropoff_datetime</th>\n",
              "      <th>passenger_count</th>\n",
              "      <th>pickup_longitude</th>\n",
              "      <th>pickup_latitude</th>\n",
              "      <th>dropoff_longitude</th>\n",
              "      <th>dropoff_latitude</th>\n",
              "      <th>store_and_fwd_flag</th>\n",
              "      <th>trip_duration</th>\n",
              "      <th>pickup_hour</th>\n",
              "      <th>pickup_month</th>\n",
              "      <th>weekday_num</th>\n",
              "      <th>weekday_day</th>\n",
              "      <th>distance</th>\n",
              "      <th>speed</th>\n",
              "    </tr>\n",
              "  </thead>\n",
              "  <tbody>\n",
              "    <tr>\n",
              "      <th>0</th>\n",
              "      <td>id2875421</td>\n",
              "      <td>2</td>\n",
              "      <td>2016-03-14 17:24:55</td>\n",
              "      <td>2016-03-14 17:32:30</td>\n",
              "      <td>1</td>\n",
              "      <td>-73.982155</td>\n",
              "      <td>40.767937</td>\n",
              "      <td>-73.964630</td>\n",
              "      <td>40.765602</td>\n",
              "      <td>N</td>\n",
              "      <td>455</td>\n",
              "      <td>17</td>\n",
              "      <td>3</td>\n",
              "      <td>0</td>\n",
              "      <td>Monday</td>\n",
              "      <td>1.498523</td>\n",
              "      <td>11.86</td>\n",
              "    </tr>\n",
              "    <tr>\n",
              "      <th>1</th>\n",
              "      <td>id2377394</td>\n",
              "      <td>1</td>\n",
              "      <td>2016-06-12 00:43:35</td>\n",
              "      <td>2016-06-12 00:54:38</td>\n",
              "      <td>1</td>\n",
              "      <td>-73.980415</td>\n",
              "      <td>40.738564</td>\n",
              "      <td>-73.999481</td>\n",
              "      <td>40.731152</td>\n",
              "      <td>N</td>\n",
              "      <td>663</td>\n",
              "      <td>0</td>\n",
              "      <td>6</td>\n",
              "      <td>6</td>\n",
              "      <td>Sunday</td>\n",
              "      <td>1.805510</td>\n",
              "      <td>9.80</td>\n",
              "    </tr>\n",
              "    <tr>\n",
              "      <th>2</th>\n",
              "      <td>id3858529</td>\n",
              "      <td>2</td>\n",
              "      <td>2016-01-19 11:35:24</td>\n",
              "      <td>2016-01-19 12:10:48</td>\n",
              "      <td>1</td>\n",
              "      <td>-73.979027</td>\n",
              "      <td>40.763939</td>\n",
              "      <td>-74.005333</td>\n",
              "      <td>40.710087</td>\n",
              "      <td>N</td>\n",
              "      <td>2124</td>\n",
              "      <td>11</td>\n",
              "      <td>1</td>\n",
              "      <td>1</td>\n",
              "      <td>Tuesday</td>\n",
              "      <td>6.385107</td>\n",
              "      <td>10.82</td>\n",
              "    </tr>\n",
              "    <tr>\n",
              "      <th>3</th>\n",
              "      <td>id3504673</td>\n",
              "      <td>2</td>\n",
              "      <td>2016-04-06 19:32:31</td>\n",
              "      <td>2016-04-06 19:39:40</td>\n",
              "      <td>1</td>\n",
              "      <td>-74.010040</td>\n",
              "      <td>40.719971</td>\n",
              "      <td>-74.012268</td>\n",
              "      <td>40.706718</td>\n",
              "      <td>N</td>\n",
              "      <td>429</td>\n",
              "      <td>19</td>\n",
              "      <td>4</td>\n",
              "      <td>2</td>\n",
              "      <td>Wednesday</td>\n",
              "      <td>1.485500</td>\n",
              "      <td>12.47</td>\n",
              "    </tr>\n",
              "    <tr>\n",
              "      <th>4</th>\n",
              "      <td>id2181028</td>\n",
              "      <td>2</td>\n",
              "      <td>2016-03-26 13:30:55</td>\n",
              "      <td>2016-03-26 13:38:10</td>\n",
              "      <td>1</td>\n",
              "      <td>-73.973053</td>\n",
              "      <td>40.793209</td>\n",
              "      <td>-73.972923</td>\n",
              "      <td>40.782520</td>\n",
              "      <td>N</td>\n",
              "      <td>435</td>\n",
              "      <td>13</td>\n",
              "      <td>3</td>\n",
              "      <td>5</td>\n",
              "      <td>Saturday</td>\n",
              "      <td>1.188590</td>\n",
              "      <td>9.84</td>\n",
              "    </tr>\n",
              "  </tbody>\n",
              "</table>\n",
              "</div>\n",
              "      <button class=\"colab-df-convert\" onclick=\"convertToInteractive('df-e1228b0e-a783-40cb-96ff-74b41ebbb64b')\"\n",
              "              title=\"Convert this dataframe to an interactive table.\"\n",
              "              style=\"display:none;\">\n",
              "        \n",
              "  <svg xmlns=\"http://www.w3.org/2000/svg\" height=\"24px\"viewBox=\"0 0 24 24\"\n",
              "       width=\"24px\">\n",
              "    <path d=\"M0 0h24v24H0V0z\" fill=\"none\"/>\n",
              "    <path d=\"M18.56 5.44l.94 2.06.94-2.06 2.06-.94-2.06-.94-.94-2.06-.94 2.06-2.06.94zm-11 1L8.5 8.5l.94-2.06 2.06-.94-2.06-.94L8.5 2.5l-.94 2.06-2.06.94zm10 10l.94 2.06.94-2.06 2.06-.94-2.06-.94-.94-2.06-.94 2.06-2.06.94z\"/><path d=\"M17.41 7.96l-1.37-1.37c-.4-.4-.92-.59-1.43-.59-.52 0-1.04.2-1.43.59L10.3 9.45l-7.72 7.72c-.78.78-.78 2.05 0 2.83L4 21.41c.39.39.9.59 1.41.59.51 0 1.02-.2 1.41-.59l7.78-7.78 2.81-2.81c.8-.78.8-2.07 0-2.86zM5.41 20L4 18.59l7.72-7.72 1.47 1.35L5.41 20z\"/>\n",
              "  </svg>\n",
              "      </button>\n",
              "      \n",
              "  <style>\n",
              "    .colab-df-container {\n",
              "      display:flex;\n",
              "      flex-wrap:wrap;\n",
              "      gap: 12px;\n",
              "    }\n",
              "\n",
              "    .colab-df-convert {\n",
              "      background-color: #E8F0FE;\n",
              "      border: none;\n",
              "      border-radius: 50%;\n",
              "      cursor: pointer;\n",
              "      display: none;\n",
              "      fill: #1967D2;\n",
              "      height: 32px;\n",
              "      padding: 0 0 0 0;\n",
              "      width: 32px;\n",
              "    }\n",
              "\n",
              "    .colab-df-convert:hover {\n",
              "      background-color: #E2EBFA;\n",
              "      box-shadow: 0px 1px 2px rgba(60, 64, 67, 0.3), 0px 1px 3px 1px rgba(60, 64, 67, 0.15);\n",
              "      fill: #174EA6;\n",
              "    }\n",
              "\n",
              "    [theme=dark] .colab-df-convert {\n",
              "      background-color: #3B4455;\n",
              "      fill: #D2E3FC;\n",
              "    }\n",
              "\n",
              "    [theme=dark] .colab-df-convert:hover {\n",
              "      background-color: #434B5C;\n",
              "      box-shadow: 0px 1px 3px 1px rgba(0, 0, 0, 0.15);\n",
              "      filter: drop-shadow(0px 1px 2px rgba(0, 0, 0, 0.3));\n",
              "      fill: #FFFFFF;\n",
              "    }\n",
              "  </style>\n",
              "\n",
              "      <script>\n",
              "        const buttonEl =\n",
              "          document.querySelector('#df-e1228b0e-a783-40cb-96ff-74b41ebbb64b button.colab-df-convert');\n",
              "        buttonEl.style.display =\n",
              "          google.colab.kernel.accessAllowed ? 'block' : 'none';\n",
              "\n",
              "        async function convertToInteractive(key) {\n",
              "          const element = document.querySelector('#df-e1228b0e-a783-40cb-96ff-74b41ebbb64b');\n",
              "          const dataTable =\n",
              "            await google.colab.kernel.invokeFunction('convertToInteractive',\n",
              "                                                     [key], {});\n",
              "          if (!dataTable) return;\n",
              "\n",
              "          const docLinkHtml = 'Like what you see? Visit the ' +\n",
              "            '<a target=\"_blank\" href=https://colab.research.google.com/notebooks/data_table.ipynb>data table notebook</a>'\n",
              "            + ' to learn more about interactive tables.';\n",
              "          element.innerHTML = '';\n",
              "          dataTable['output_type'] = 'display_data';\n",
              "          await google.colab.output.renderOutput(dataTable, element);\n",
              "          const docLink = document.createElement('div');\n",
              "          docLink.innerHTML = docLinkHtml;\n",
              "          element.appendChild(docLink);\n",
              "        }\n",
              "      </script>\n",
              "    </div>\n",
              "  </div>\n",
              "  "
            ],
            "text/plain": [
              "          id  vendor_id     pickup_datetime  ... weekday_day  distance  speed\n",
              "0  id2875421          2 2016-03-14 17:24:55  ...      Monday  1.498523  11.86\n",
              "1  id2377394          1 2016-06-12 00:43:35  ...      Sunday  1.805510   9.80\n",
              "2  id3858529          2 2016-01-19 11:35:24  ...     Tuesday  6.385107  10.82\n",
              "3  id3504673          2 2016-04-06 19:32:31  ...   Wednesday  1.485500  12.47\n",
              "4  id2181028          2 2016-03-26 13:30:55  ...    Saturday  1.188590   9.84\n",
              "\n",
              "[5 rows x 17 columns]"
            ]
          },
          "metadata": {},
          "execution_count": 25
        }
      ]
    },
    {
      "cell_type": "markdown",
      "source": [
        "##Passanger Count"
      ],
      "metadata": {
        "id": "JGgF5b1fTiH8"
      }
    },
    {
      "cell_type": "code",
      "source": [
        "# finding frequency of trip according to number of passanger.\n",
        "plt.figure(figsize=(10,7))\n",
        "ax = sns.countplot(df['passenger_count'])\n",
        "for p in ax.patches:\n",
        "    ax.annotate(f'\\n{p.get_height()}', (p.get_x()+0.2, p.get_height()), color='black', size=13)\n",
        "plt.title('Distribution of Passanger_count',fontsize=20)\n",
        "plt.show()"
      ],
      "metadata": {
        "colab": {
          "base_uri": "https://localhost:8080/",
          "height": 464
        },
        "id": "TFBuAcveKQGI",
        "outputId": "6a430b64-1f98-4c94-b760-43bd1943f4bc"
      },
      "execution_count": 26,
      "outputs": [
        {
          "output_type": "display_data",
          "data": {
            "image/png": "[encoded data removed]",
            "text/plain": [
              "<Figure size 720x504 with 1 Axes>"
            ]
          },
          "metadata": {
            "needs_background": "light"
          }
        }
      ]
    },
    {
      "cell_type": "markdown",
      "source": [
        "#### most of the trip is taken by the single passanger and there are very fewer no. of trip is taken by more then 6 passengers and they might be outliers because fitting more then is not possible. 6 people is possible which contain 1 child and driver. 0 is outlier too."
      ],
      "metadata": {
        "id": "CimQN17_MoFG"
      }
    },
    {
      "cell_type": "code",
      "source": [
        "# frequency of trips count according to passanger count\n",
        "df['passenger_count'].value_counts()"
      ],
      "metadata": {
        "colab": {
          "base_uri": "https://localhost:8080/"
        },
        "id": "lYU6vrY13YNt",
        "outputId": "af9504c8-124f-4e20-abd1-b0a9f62ab061"
      },
      "execution_count": 27,
      "outputs": [
        {
          "output_type": "execute_result",
          "data": {
            "text/plain": [
              "1    1033540\n",
              "2     210318\n",
              "5      78088\n",
              "3      59896\n",
              "6      48333\n",
              "4      28404\n",
              "0         60\n",
              "7          3\n",
              "9          1\n",
              "8          1\n",
              "Name: passenger_count, dtype: int64"
            ]
          },
          "metadata": {},
          "execution_count": 27
        }
      ]
    },
    {
      "cell_type": "code",
      "source": [
        "# boxplot of passanger count\n",
        "plt.figure(figsize=(10,5))\n",
        "sns.boxplot(df['passenger_count'])"
      ],
      "metadata": {
        "colab": {
          "base_uri": "https://localhost:8080/",
          "height": 352
        },
        "id": "dxw95wcB2x1F",
        "outputId": "b36aeed8-ed00-4463-f653-d385f563afed"
      },
      "execution_count": 28,
      "outputs": [
        {
          "output_type": "execute_result",
          "data": {
            "text/plain": [
              "<matplotlib.axes._subplots.AxesSubplot at 0x7fe0560a0250>"
            ]
          },
          "metadata": {},
          "execution_count": 28
        },
        {
          "output_type": "display_data",
          "data": {
            "image/png": "[encoded data removed]",
            "text/plain": [
              "<Figure size 720x360 with 1 Axes>"
            ]
          },
          "metadata": {
            "needs_background": "light"
          }
        }
      ]
    },
    {
      "cell_type": "markdown",
      "source": [
        "#### there are some trips with 0 passanger count.\n",
        "#### few trips consist of 7,8,9 passanger , they are outliers\n",
        "#### most of the trips consist of 1 or 2 passangers."
      ],
      "metadata": {
        "id": "oMz7rtC-3mdb"
      }
    },
    {
      "cell_type": "code",
      "source": [
        "# summary statistics of passanger count\n",
        "df.passenger_count.describe().astype('int')"
      ],
      "metadata": {
        "colab": {
          "base_uri": "https://localhost:8080/"
        },
        "id": "PMOoqvpA3Sy0",
        "outputId": "611e6c8b-0cf0-471b-e804-d15c1362021f"
      },
      "execution_count": 29,
      "outputs": [
        {
          "output_type": "execute_result",
          "data": {
            "text/plain": [
              "count    1458644\n",
              "mean           1\n",
              "std            1\n",
              "min            0\n",
              "25%            1\n",
              "50%            1\n",
              "75%            2\n",
              "max            9\n",
              "Name: passenger_count, dtype: int64"
            ]
          },
          "metadata": {},
          "execution_count": 29
        }
      ]
    },
    {
      "cell_type": "markdown",
      "source": [
        "#### Mean,Median and mode are same.\n",
        "#### passanger count has standard deviation of 1.\n",
        "#### Minimum passanger count is 0.Since trips not possible without customers we will remove this.\n",
        "#### Max passanger count is 9 which is clearly outlier we will remove it too."
      ],
      "metadata": {
        "id": "1zlGdSETHqGU"
      }
    },
    {
      "cell_type": "code",
      "source": [
        "# removing the outliers from passanger count\n",
        "df = df[df.passenger_count > 0]\n",
        "df = df[df.passenger_count <= 6]"
      ],
      "metadata": {
        "id": "4ruBIsJT4lv8"
      },
      "execution_count": 30,
      "outputs": []
    },
    {
      "cell_type": "markdown",
      "source": [
        "#### Acoording to www1.nyc.gov The maximum amount of passengers allowed in a yellow taxicab by law is four (4) in a four (4) passenger taxicab or five (5) passengers in a five (5) passenger taxicab, except that an additional passenger must be accepted if such passenger is under the age of seven (7) and is held on the lap of an adult passenger seated in the rear.\n",
        "#### So, in total we can assume that maximum 6 passenger can board the new york taxi i.e. 5 adult + 1 minor\n",
        "#### Since trips not possible without customers thats why I removed trips with 0 passangers and more than 6 passanger can't sit in a taxi thats why I removed more trips with more than 6 passangers(they are outliers)"
      ],
      "metadata": {
        "id": "YzDEz1_h7z3d"
      }
    },
    {
      "cell_type": "code",
      "source": [
        "# frequency of trips count according to passanger count after removing outliers\n",
        "df.passenger_count.value_counts()"
      ],
      "metadata": {
        "colab": {
          "base_uri": "https://localhost:8080/"
        },
        "id": "dqqIm1nD5VMI",
        "outputId": "eb87c741-cf1d-446b-cd20-f61a28af0fae"
      },
      "execution_count": 31,
      "outputs": [
        {
          "output_type": "execute_result",
          "data": {
            "text/plain": [
              "1    1033540\n",
              "2     210318\n",
              "5      78088\n",
              "3      59896\n",
              "6      48333\n",
              "4      28404\n",
              "Name: passenger_count, dtype: int64"
            ]
          },
          "metadata": {},
          "execution_count": 31
        }
      ]
    },
    {
      "cell_type": "code",
      "source": [
        "df.shape"
      ],
      "metadata": {
        "colab": {
          "base_uri": "https://localhost:8080/"
        },
        "id": "ltdnDdkc5aED",
        "outputId": "6c65e5a1-6a8a-4572-8165-d1f12ccfbf40"
      },
      "execution_count": 32,
      "outputs": [
        {
          "output_type": "execute_result",
          "data": {
            "text/plain": [
              "(1458579, 17)"
            ]
          },
          "metadata": {},
          "execution_count": 32
        }
      ]
    },
    {
      "cell_type": "markdown",
      "source": [
        "#### After removing Outliers from passanger count we are left with 1458579 observations."
      ],
      "metadata": {
        "id": "f-Ta7RI_8ij8"
      }
    },
    {
      "cell_type": "code",
      "source": [
        "# visualization of passanger count after removing outliers \n",
        "plt.figure(figsize=(10,5))\n",
        "ax = sns.countplot(df.passenger_count)\n",
        "for p in ax.patches:\n",
        "    ax.annotate(f'\\n{p.get_height()}', (p.get_x()+0.2, p.get_height()), color='black', size=13)\n",
        "plt.title('Distribution of passenger_count after removing outliers',fontsize=14)\n",
        "plt.show()"
      ],
      "metadata": {
        "colab": {
          "base_uri": "https://localhost:8080/",
          "height": 351
        },
        "id": "fOv8AaBx7iF3",
        "outputId": "b23edc54-71f8-41a9-82da-047825e1dab1"
      },
      "execution_count": 33,
      "outputs": [
        {
          "output_type": "display_data",
          "data": {
            "image/png": "[encoded data removed]",
            "text/plain": [
              "<Figure size 720x360 with 1 Axes>"
            ]
          },
          "metadata": {
            "needs_background": "light"
          }
        }
      ]
    },
    {
      "cell_type": "markdown",
      "source": [
        "##Distance"
      ],
      "metadata": {
        "id": "tkI1xZa_Ue78"
      }
    },
    {
      "cell_type": "code",
      "source": [
        "# summary statistics of Distance\n",
        "round(df['distance'].describe(),2)"
      ],
      "metadata": {
        "colab": {
          "base_uri": "https://localhost:8080/"
        },
        "id": "C7_Y8dGX9LDv",
        "outputId": "3ac751d0-2f9c-4476-a02c-99592690c53b"
      },
      "execution_count": 34,
      "outputs": [
        {
          "output_type": "execute_result",
          "data": {
            "text/plain": [
              "count    1458579.00\n",
              "mean           3.44\n",
              "std            4.30\n",
              "min            0.00\n",
              "25%            1.23\n",
              "50%            2.09\n",
              "75%            3.88\n",
              "max         1240.91\n",
              "Name: distance, dtype: float64"
            ]
          },
          "metadata": {},
          "execution_count": 34
        }
      ]
    },
    {
      "cell_type": "markdown",
      "source": [
        "#### Distances are in Kilometers\n",
        "#### some trips with 0 km\n",
        "#### some trips are over 100km\n",
        "#### Mean distane is approx 3.5 km and standard deviation is 4.3 km which means most of the trips are in range of 1 to 10 km"
      ],
      "metadata": {
        "id": "ycnIkE2q9-Nz"
      }
    },
    {
      "cell_type": "code",
      "source": [
        "df['distance'].unique().shape"
      ],
      "metadata": {
        "colab": {
          "base_uri": "https://localhost:8080/"
        },
        "id": "KiCps71K9pJ-",
        "outputId": "79ccd27f-aac8-4c91-db98-d082964a8790"
      },
      "execution_count": 35,
      "outputs": [
        {
          "output_type": "execute_result",
          "data": {
            "text/plain": [
              "(1452234,)"
            ]
          },
          "metadata": {},
          "execution_count": 35
        }
      ]
    },
    {
      "cell_type": "code",
      "source": [
        "df[df['distance']==0].shape"
      ],
      "metadata": {
        "colab": {
          "base_uri": "https://localhost:8080/"
        },
        "id": "zcuMgmU193k5",
        "outputId": "8a1e02f0-965f-4032-dd16-31506275ea0d"
      },
      "execution_count": 36,
      "outputs": [
        {
          "output_type": "execute_result",
          "data": {
            "text/plain": [
              "(5887, 17)"
            ]
          },
          "metadata": {},
          "execution_count": 36
        }
      ]
    },
    {
      "cell_type": "markdown",
      "source": [
        "#### There are 5887 trips whith 0 distance."
      ],
      "metadata": {
        "id": "2zz89RBy_jyk"
      }
    },
    {
      "cell_type": "markdown",
      "source": [
        "#####Customer might have changed thier mind and cancelled the journey just after accepting it.\n",
        "#####Driver might have cancelled the trip just after accepting it due to some reason. So the trip couldn't start.\n"
      ],
      "metadata": {
        "id": "zO6nGOmydi3B"
      }
    },
    {
      "cell_type": "code",
      "source": [
        "# finding no. of observations with more than 100km\n",
        "df[df['distance']>=100].shape"
      ],
      "metadata": {
        "colab": {
          "base_uri": "https://localhost:8080/"
        },
        "id": "DHjgLRNX-Mj4",
        "outputId": "89f63df3-7fd2-4a6a-8757-c542a495bc77"
      },
      "execution_count": 37,
      "outputs": [
        {
          "output_type": "execute_result",
          "data": {
            "text/plain": [
              "(19, 17)"
            ]
          },
          "metadata": {},
          "execution_count": 37
        }
      ]
    },
    {
      "cell_type": "markdown",
      "source": [
        "#### There are only 19 trips more than 100 km "
      ],
      "metadata": {
        "id": "IRC5xaHDBDZd"
      }
    },
    {
      "cell_type": "code",
      "source": [
        "# finding no. of trips with more than 10km\n",
        "df[df['distance']>10].shape"
      ],
      "metadata": {
        "colab": {
          "base_uri": "https://localhost:8080/"
        },
        "id": "RRj8Ou7m_26g",
        "outputId": "a6b4716e-7184-4031-e845-7d9078a77a17"
      },
      "execution_count": 38,
      "outputs": [
        {
          "output_type": "execute_result",
          "data": {
            "text/plain": [
              "(89133, 17)"
            ]
          },
          "metadata": {},
          "execution_count": 38
        }
      ]
    },
    {
      "cell_type": "markdown",
      "source": [
        "#### There are 89133 trips with more than 10 km "
      ],
      "metadata": {
        "id": "4VBUj1-3BSHR"
      }
    },
    {
      "cell_type": "code",
      "source": [
        "# finding no. of trips with more than 0 km and less than and equal to 10 km\n",
        "df[(df['distance']<=10) & (df['distance']>0)].shape"
      ],
      "metadata": {
        "colab": {
          "base_uri": "https://localhost:8080/"
        },
        "id": "5q3-tmeg_6wG",
        "outputId": "19c88e55-5dbf-45fa-b8a0-392d32b97105"
      },
      "execution_count": 39,
      "outputs": [
        {
          "output_type": "execute_result",
          "data": {
            "text/plain": [
              "(1363559, 17)"
            ]
          },
          "metadata": {},
          "execution_count": 39
        }
      ]
    },
    {
      "cell_type": "markdown",
      "source": [
        "#### There are 1363559 trips in range of 1 to 10 km "
      ],
      "metadata": {
        "id": "jpRhQq-RAxJ4"
      }
    },
    {
      "cell_type": "code",
      "source": [
        "# finding no. of trips with more than 0 km and less than and equal to 30 km\n",
        "df[(df['distance']<=30) & (df['distance']>0)].shape"
      ],
      "metadata": {
        "colab": {
          "base_uri": "https://localhost:8080/"
        },
        "id": "Gu0_auZcF08r",
        "outputId": "6e1eb61e-3515-4dbb-d61a-8610c144e7a2"
      },
      "execution_count": 40,
      "outputs": [
        {
          "output_type": "execute_result",
          "data": {
            "text/plain": [
              "(1452119, 17)"
            ]
          },
          "metadata": {},
          "execution_count": 40
        }
      ]
    },
    {
      "cell_type": "markdown",
      "source": [
        "#### we have to predict the trip duration inside New York Ciy.\n",
        "#### The radius of New York City is 30 km approx. So we are going to treat Trips with Distance more than 30 km as outliers."
      ],
      "metadata": {
        "id": "Qfn1zGYJGAmQ"
      }
    },
    {
      "cell_type": "code",
      "source": [
        "# removed outliers from distance\n",
        "df = df[(df['distance']>0) & (df['distance']<=30)]"
      ],
      "metadata": {
        "id": "P0kuFBC-HMEO"
      },
      "execution_count": 41,
      "outputs": []
    },
    {
      "cell_type": "code",
      "source": [
        "df.shape"
      ],
      "metadata": {
        "colab": {
          "base_uri": "https://localhost:8080/"
        },
        "id": "L8OUi5EXHxN1",
        "outputId": "a4a5dced-e6fb-4587-9544-bfe1dc63eb92"
      },
      "execution_count": 42,
      "outputs": [
        {
          "output_type": "execute_result",
          "data": {
            "text/plain": [
              "(1452119, 17)"
            ]
          },
          "metadata": {},
          "execution_count": 42
        }
      ]
    },
    {
      "cell_type": "code",
      "source": [
        "# ploting distance's boxplot\n",
        "plt.figure(figsize=(15,7))\n",
        "sns.boxplot(df['distance'])"
      ],
      "metadata": {
        "colab": {
          "base_uri": "https://localhost:8080/",
          "height": 460
        },
        "id": "OimAo6D9_T8q",
        "outputId": "6333fdb9-1c78-4786-d175-273e15a0632e"
      },
      "execution_count": 43,
      "outputs": [
        {
          "output_type": "execute_result",
          "data": {
            "text/plain": [
              "<matplotlib.axes._subplots.AxesSubplot at 0x7fe06a6b1890>"
            ]
          },
          "metadata": {},
          "execution_count": 43
        },
        {
          "output_type": "display_data",
          "data": {
            "image/png": "[encoded data removed]",
            "text/plain": [
              "<Figure size 1080x504 with 1 Axes>"
            ]
          },
          "metadata": {
            "needs_background": "light"
          }
        }
      ]
    },
    {
      "cell_type": "code",
      "source": [
        "# summary statistic of speed\n",
        "round(df.speed.describe(),2)"
      ],
      "metadata": {
        "colab": {
          "base_uri": "https://localhost:8080/"
        },
        "id": "e_-1asXE1eo2",
        "outputId": "33836e81-4080-4113-993f-7553f96c9f8c"
      },
      "execution_count": 44,
      "outputs": [
        {
          "output_type": "execute_result",
          "data": {
            "text/plain": [
              "count    1452119.00\n",
              "mean          14.45\n",
              "std           11.44\n",
              "min            0.00\n",
              "25%            9.17\n",
              "50%           12.82\n",
              "75%           17.87\n",
              "max         9274.85\n",
              "Name: speed, dtype: float64"
            ]
          },
          "metadata": {},
          "execution_count": 44
        }
      ]
    },
    {
      "cell_type": "code",
      "source": [
        "# ploting speed's boxplot\n",
        "plt.figure(figsize = (20,5))\n",
        "sns.boxplot(df['speed'])"
      ],
      "metadata": {
        "colab": {
          "base_uri": "https://localhost:8080/",
          "height": 352
        },
        "id": "gMyvf5bV1Jr0",
        "outputId": "01106864-3d82-44fe-d96b-ac6871c6a4b7"
      },
      "execution_count": 45,
      "outputs": [
        {
          "output_type": "execute_result",
          "data": {
            "text/plain": [
              "<matplotlib.axes._subplots.AxesSubplot at 0x7fe03e8e4ad0>"
            ]
          },
          "metadata": {},
          "execution_count": 45
        },
        {
          "output_type": "display_data",
          "data": {
            "image/png": "[encoded data removed]",
            "text/plain": [
              "<Figure size 1440x360 with 1 Axes>"
            ]
          },
          "metadata": {
            "needs_background": "light"
          }
        }
      ]
    },
    {
      "cell_type": "markdown",
      "source": [
        "#### we can see that maximum speed of trip is 9274.85 km/h and minimum is 0 km/h.\n",
        "#### According to https://www.newyorksafetycouncil.com/ ,Average speed limit in urban area is i.e. 40 km/h.\n",
        "#### And 65 mph on controlled state highways i.e. approx 104 km/h.\n",
        "#### so we are going to remove all those trips with more than 104 m/h."
      ],
      "metadata": {
        "id": "KC8uBy5o2Cfw"
      }
    },
    {
      "cell_type": "code",
      "source": [
        "# removing outliers\n",
        "df = df[df['speed']<=104]"
      ],
      "metadata": {
        "id": "IszuEL0b3f7I"
      },
      "execution_count": 46,
      "outputs": []
    },
    {
      "cell_type": "code",
      "source": [
        "# visualization of frequency of trips according to speed ranges\n",
        "df.speed.groupby(pd.cut(df.speed, np.arange(0,104,10))).count().plot(kind = 'barh')\n",
        "plt.xlabel('Trip count')\n",
        "plt.ylabel('Speed (Km/H)')\n",
        "plt.show()"
      ],
      "metadata": {
        "colab": {
          "base_uri": "https://localhost:8080/",
          "height": 279
        },
        "id": "Q74H2AZl7EkB",
        "outputId": "24132321-89db-4756-9849-4babb6fea810"
      },
      "execution_count": 47,
      "outputs": [
        {
          "output_type": "display_data",
          "data": {
            "image/png": "[encoded data removed]",
            "text/plain": [
              "<Figure size 432x288 with 1 Axes>"
            ]
          },
          "metadata": {
            "needs_background": "light"
          }
        }
      ]
    },
    {
      "cell_type": "markdown",
      "source": [
        "#### We can see that most of the trips are in range of 10 to 20 km.\n",
        "#### and least no of trips are done in range of (30 to 40) km and (40 to 50) km.\n"
      ],
      "metadata": {
        "id": "euuF6e1e7Nlp"
      }
    },
    {
      "cell_type": "code",
      "source": [
        ""
      ],
      "metadata": {
        "id": "mc_uDdrV7NOl"
      },
      "execution_count": 47,
      "outputs": []
    },
    {
      "cell_type": "markdown",
      "source": [
        "##Trip Duration"
      ],
      "metadata": {
        "id": "RBVqQ5y_UjQ7"
      }
    },
    {
      "cell_type": "code",
      "source": [
        "# summary statistics of Trip Duration\n",
        "df['trip_duration'].describe().astype('int')"
      ],
      "metadata": {
        "colab": {
          "base_uri": "https://localhost:8080/"
        },
        "id": "-KkfFQ3Bid8V",
        "outputId": "42ddaf40-2c3c-4613-b0e1-a3819a8a7ff8"
      },
      "execution_count": 48,
      "outputs": [
        {
          "output_type": "execute_result",
          "data": {
            "text/plain": [
              "count    1451978\n",
              "mean         960\n",
              "std         5245\n",
              "min            1\n",
              "25%          398\n",
              "50%          663\n",
              "75%         1076\n",
              "max      3526282\n",
              "Name: trip_duration, dtype: int64"
            ]
          },
          "metadata": {},
          "execution_count": 48
        }
      ]
    },
    {
      "cell_type": "markdown",
      "source": [
        "#### In summary statistics of trip Duration we can see that Mean trip Duration is 960 seconds. Standard deviation is 5245 seconds. upto 75% trip's duration is less than 1076 seconds.Minumun duration is 1 second and Max duration is 3526282 seconds (40 days approx) which means there are outliers. "
      ],
      "metadata": {
        "id": "Ro5RGnZ8MRM8"
      }
    },
    {
      "cell_type": "markdown",
      "source": [
        "#### we will remove outliers after comparing distance with trip duration at the time of doing Bivariate Analysis."
      ],
      "metadata": {
        "id": "imH7QrYWO4ma"
      }
    },
    {
      "cell_type": "code",
      "source": [
        "# boxplot of trip duration\n",
        "plt.figure(figsize=(10,7))\n",
        "sns.boxplot(df['trip_duration'])"
      ],
      "metadata": {
        "colab": {
          "base_uri": "https://localhost:8080/",
          "height": 461
        },
        "id": "1OL_kI9JOVZX",
        "outputId": "274069bc-c2da-4c83-d094-5afadee73295"
      },
      "execution_count": 49,
      "outputs": [
        {
          "output_type": "execute_result",
          "data": {
            "text/plain": [
              "<matplotlib.axes._subplots.AxesSubplot at 0x7fe03f98ca10>"
            ]
          },
          "metadata": {},
          "execution_count": 49
        },
        {
          "output_type": "display_data",
          "data": {
            "image/png": "[encoded data removed]",
            "text/plain": [
              "<Figure size 720x504 with 1 Axes>"
            ]
          },
          "metadata": {
            "needs_background": "light"
          }
        }
      ]
    },
    {
      "cell_type": "code",
      "source": [
        "df.head()"
      ],
      "metadata": {
        "colab": {
          "base_uri": "https://localhost:8080/",
          "height": 357
        },
        "id": "Hw51sX7GPRAs",
        "outputId": "7b672797-07f4-448a-881e-677d83becb36"
      },
      "execution_count": 50,
      "outputs": [
        {
          "output_type": "execute_result",
          "data": {
            "text/html": [
              "\n",
              "  <div id=\"df-3b4d4728-f1fe-4403-97d3-8363e8b586f6\">\n",
              "    <div class=\"colab-df-container\">\n",
              "      <div>\n",
              "<style scoped>\n",
              "    .dataframe tbody tr th:only-of-type {\n",
              "        vertical-align: middle;\n",
              "    }\n",
              "\n",
              "    .dataframe tbody tr th {\n",
              "        vertical-align: top;\n",
              "    }\n",
              "\n",
              "    .dataframe thead th {\n",
              "        text-align: right;\n",
              "    }\n",
              "</style>\n",
              "<table border=\"1\" class=\"dataframe\">\n",
              "  <thead>\n",
              "    <tr style=\"text-align: right;\">\n",
              "      <th></th>\n",
              "      <th>id</th>\n",
              "      <th>vendor_id</th>\n",
              "      <th>pickup_datetime</th>\n",
              "      <th>dropoff_datetime</th>\n",
              "      <th>passenger_count</th>\n",
              "      <th>pickup_longitude</th>\n",
              "      <th>pickup_latitude</th>\n",
              "      <th>dropoff_longitude</th>\n",
              "      <th>dropoff_latitude</th>\n",
              "      <th>store_and_fwd_flag</th>\n",
              "      <th>trip_duration</th>\n",
              "      <th>pickup_hour</th>\n",
              "      <th>pickup_month</th>\n",
              "      <th>weekday_num</th>\n",
              "      <th>weekday_day</th>\n",
              "      <th>distance</th>\n",
              "      <th>speed</th>\n",
              "    </tr>\n",
              "  </thead>\n",
              "  <tbody>\n",
              "    <tr>\n",
              "      <th>0</th>\n",
              "      <td>id2875421</td>\n",
              "      <td>2</td>\n",
              "      <td>2016-03-14 17:24:55</td>\n",
              "      <td>2016-03-14 17:32:30</td>\n",
              "      <td>1</td>\n",
              "      <td>-73.982155</td>\n",
              "      <td>40.767937</td>\n",
              "      <td>-73.964630</td>\n",
              "      <td>40.765602</td>\n",
              "      <td>N</td>\n",
              "      <td>455</td>\n",
              "      <td>17</td>\n",
              "      <td>3</td>\n",
              "      <td>0</td>\n",
              "      <td>Monday</td>\n",
              "      <td>1.498523</td>\n",
              "      <td>11.86</td>\n",
              "    </tr>\n",
              "    <tr>\n",
              "      <th>1</th>\n",
              "      <td>id2377394</td>\n",
              "      <td>1</td>\n",
              "      <td>2016-06-12 00:43:35</td>\n",
              "      <td>2016-06-12 00:54:38</td>\n",
              "      <td>1</td>\n",
              "      <td>-73.980415</td>\n",
              "      <td>40.738564</td>\n",
              "      <td>-73.999481</td>\n",
              "      <td>40.731152</td>\n",
              "      <td>N</td>\n",
              "      <td>663</td>\n",
              "      <td>0</td>\n",
              "      <td>6</td>\n",
              "      <td>6</td>\n",
              "      <td>Sunday</td>\n",
              "      <td>1.805510</td>\n",
              "      <td>9.80</td>\n",
              "    </tr>\n",
              "    <tr>\n",
              "      <th>2</th>\n",
              "      <td>id3858529</td>\n",
              "      <td>2</td>\n",
              "      <td>2016-01-19 11:35:24</td>\n",
              "      <td>2016-01-19 12:10:48</td>\n",
              "      <td>1</td>\n",
              "      <td>-73.979027</td>\n",
              "      <td>40.763939</td>\n",
              "      <td>-74.005333</td>\n",
              "      <td>40.710087</td>\n",
              "      <td>N</td>\n",
              "      <td>2124</td>\n",
              "      <td>11</td>\n",
              "      <td>1</td>\n",
              "      <td>1</td>\n",
              "      <td>Tuesday</td>\n",
              "      <td>6.385107</td>\n",
              "      <td>10.82</td>\n",
              "    </tr>\n",
              "    <tr>\n",
              "      <th>3</th>\n",
              "      <td>id3504673</td>\n",
              "      <td>2</td>\n",
              "      <td>2016-04-06 19:32:31</td>\n",
              "      <td>2016-04-06 19:39:40</td>\n",
              "      <td>1</td>\n",
              "      <td>-74.010040</td>\n",
              "      <td>40.719971</td>\n",
              "      <td>-74.012268</td>\n",
              "      <td>40.706718</td>\n",
              "      <td>N</td>\n",
              "      <td>429</td>\n",
              "      <td>19</td>\n",
              "      <td>4</td>\n",
              "      <td>2</td>\n",
              "      <td>Wednesday</td>\n",
              "      <td>1.485500</td>\n",
              "      <td>12.47</td>\n",
              "    </tr>\n",
              "    <tr>\n",
              "      <th>4</th>\n",
              "      <td>id2181028</td>\n",
              "      <td>2</td>\n",
              "      <td>2016-03-26 13:30:55</td>\n",
              "      <td>2016-03-26 13:38:10</td>\n",
              "      <td>1</td>\n",
              "      <td>-73.973053</td>\n",
              "      <td>40.793209</td>\n",
              "      <td>-73.972923</td>\n",
              "      <td>40.782520</td>\n",
              "      <td>N</td>\n",
              "      <td>435</td>\n",
              "      <td>13</td>\n",
              "      <td>3</td>\n",
              "      <td>5</td>\n",
              "      <td>Saturday</td>\n",
              "      <td>1.188590</td>\n",
              "      <td>9.84</td>\n",
              "    </tr>\n",
              "  </tbody>\n",
              "</table>\n",
              "</div>\n",
              "      <button class=\"colab-df-convert\" onclick=\"convertToInteractive('df-3b4d4728-f1fe-4403-97d3-8363e8b586f6')\"\n",
              "              title=\"Convert this dataframe to an interactive table.\"\n",
              "              style=\"display:none;\">\n",
              "        \n",
              "  <svg xmlns=\"http://www.w3.org/2000/svg\" height=\"24px\"viewBox=\"0 0 24 24\"\n",
              "       width=\"24px\">\n",
              "    <path d=\"M0 0h24v24H0V0z\" fill=\"none\"/>\n",
              "    <path d=\"M18.56 5.44l.94 2.06.94-2.06 2.06-.94-2.06-.94-.94-2.06-.94 2.06-2.06.94zm-11 1L8.5 8.5l.94-2.06 2.06-.94-2.06-.94L8.5 2.5l-.94 2.06-2.06.94zm10 10l.94 2.06.94-2.06 2.06-.94-2.06-.94-.94-2.06-.94 2.06-2.06.94z\"/><path d=\"M17.41 7.96l-1.37-1.37c-.4-.4-.92-.59-1.43-.59-.52 0-1.04.2-1.43.59L10.3 9.45l-7.72 7.72c-.78.78-.78 2.05 0 2.83L4 21.41c.39.39.9.59 1.41.59.51 0 1.02-.2 1.41-.59l7.78-7.78 2.81-2.81c.8-.78.8-2.07 0-2.86zM5.41 20L4 18.59l7.72-7.72 1.47 1.35L5.41 20z\"/>\n",
              "  </svg>\n",
              "      </button>\n",
              "      \n",
              "  <style>\n",
              "    .colab-df-container {\n",
              "      display:flex;\n",
              "      flex-wrap:wrap;\n",
              "      gap: 12px;\n",
              "    }\n",
              "\n",
              "    .colab-df-convert {\n",
              "      background-color: #E8F0FE;\n",
              "      border: none;\n",
              "      border-radius: 50%;\n",
              "      cursor: pointer;\n",
              "      display: none;\n",
              "      fill: #1967D2;\n",
              "      height: 32px;\n",
              "      padding: 0 0 0 0;\n",
              "      width: 32px;\n",
              "    }\n",
              "\n",
              "    .colab-df-convert:hover {\n",
              "      background-color: #E2EBFA;\n",
              "      box-shadow: 0px 1px 2px rgba(60, 64, 67, 0.3), 0px 1px 3px 1px rgba(60, 64, 67, 0.15);\n",
              "      fill: #174EA6;\n",
              "    }\n",
              "\n",
              "    [theme=dark] .colab-df-convert {\n",
              "      background-color: #3B4455;\n",
              "      fill: #D2E3FC;\n",
              "    }\n",
              "\n",
              "    [theme=dark] .colab-df-convert:hover {\n",
              "      background-color: #434B5C;\n",
              "      box-shadow: 0px 1px 3px 1px rgba(0, 0, 0, 0.15);\n",
              "      filter: drop-shadow(0px 1px 2px rgba(0, 0, 0, 0.3));\n",
              "      fill: #FFFFFF;\n",
              "    }\n",
              "  </style>\n",
              "\n",
              "      <script>\n",
              "        const buttonEl =\n",
              "          document.querySelector('#df-3b4d4728-f1fe-4403-97d3-8363e8b586f6 button.colab-df-convert');\n",
              "        buttonEl.style.display =\n",
              "          google.colab.kernel.accessAllowed ? 'block' : 'none';\n",
              "\n",
              "        async function convertToInteractive(key) {\n",
              "          const element = document.querySelector('#df-3b4d4728-f1fe-4403-97d3-8363e8b586f6');\n",
              "          const dataTable =\n",
              "            await google.colab.kernel.invokeFunction('convertToInteractive',\n",
              "                                                     [key], {});\n",
              "          if (!dataTable) return;\n",
              "\n",
              "          const docLinkHtml = 'Like what you see? Visit the ' +\n",
              "            '<a target=\"_blank\" href=https://colab.research.google.com/notebooks/data_table.ipynb>data table notebook</a>'\n",
              "            + ' to learn more about interactive tables.';\n",
              "          element.innerHTML = '';\n",
              "          dataTable['output_type'] = 'display_data';\n",
              "          await google.colab.output.renderOutput(dataTable, element);\n",
              "          const docLink = document.createElement('div');\n",
              "          docLink.innerHTML = docLinkHtml;\n",
              "          element.appendChild(docLink);\n",
              "        }\n",
              "      </script>\n",
              "    </div>\n",
              "  </div>\n",
              "  "
            ],
            "text/plain": [
              "          id  vendor_id     pickup_datetime  ... weekday_day  distance  speed\n",
              "0  id2875421          2 2016-03-14 17:24:55  ...      Monday  1.498523  11.86\n",
              "1  id2377394          1 2016-06-12 00:43:35  ...      Sunday  1.805510   9.80\n",
              "2  id3858529          2 2016-01-19 11:35:24  ...     Tuesday  6.385107  10.82\n",
              "3  id3504673          2 2016-04-06 19:32:31  ...   Wednesday  1.485500  12.47\n",
              "4  id2181028          2 2016-03-26 13:30:55  ...    Saturday  1.188590   9.84\n",
              "\n",
              "[5 rows x 17 columns]"
            ]
          },
          "metadata": {},
          "execution_count": 50
        }
      ]
    },
    {
      "cell_type": "markdown",
      "source": [
        "#Bivariate Analysis"
      ],
      "metadata": {
        "id": "gbyq0oNEaxOh"
      }
    },
    {
      "cell_type": "code",
      "source": [
        " "
      ],
      "metadata": {
        "id": "gr7EtxumQf8m"
      },
      "execution_count": 50,
      "outputs": []
    },
    {
      "cell_type": "code",
      "source": [
        ""
      ],
      "metadata": {
        "id": "Toc1XZida4t9"
      },
      "execution_count": 50,
      "outputs": []
    },
    {
      "cell_type": "markdown",
      "source": [
        "##Trip Duration Vs Vendor"
      ],
      "metadata": {
        "id": "Thxrr-AGa5oz"
      }
    },
    {
      "cell_type": "code",
      "source": [
        "# visualization of vendor id and Average trip duration\n",
        "plt.figure(figsize=(10,5))\n",
        "vendor_id_trip_d = round(df.groupby('vendor_id')['trip_duration'].mean(),0)\n",
        "ax = sns.barplot(vendor_id_trip_d.index,vendor_id_trip_d.values)\n",
        "for p in ax.patches:\n",
        "    ax.annotate(f'\\n{p.get_height()}', (p.get_x()+0.2, p.get_height()), color='black', size=13)\n",
        "plt.ylabel('Trip Duration (seconds)',fontsize=12)\n",
        "plt.xlabel('Vendor',fontsize=12)\n",
        "plt.title('Vendor vs Average Trip Duration',fontsize=20,weight='bold')\n",
        "plt.show()"
      ],
      "metadata": {
        "colab": {
          "base_uri": "https://localhost:8080/",
          "height": 358
        },
        "id": "-fe1RSFBa5DD",
        "outputId": "99aab32c-8171-4758-f861-e85bf3550323"
      },
      "execution_count": 77,
      "outputs": [
        {
          "output_type": "display_data",
          "data": {
            "image/png": "[encoded data removed]",
            "text/plain": [
              "<Figure size 720x360 with 1 Axes>"
            ]
          },
          "metadata": {
            "needs_background": "light"
          }
        }
      ]
    },
    {
      "cell_type": "markdown",
      "source": [
        "#### Average trip diration of Vendor 2 is higher than Vendor 1 by 200 seconds approx"
      ],
      "metadata": {
        "id": "SQMzvil3esRO"
      }
    },
    {
      "cell_type": "code",
      "source": [
        ""
      ],
      "metadata": {
        "id": "_m2lIRLSbU9E"
      },
      "execution_count": 51,
      "outputs": []
    },
    {
      "cell_type": "markdown",
      "source": [
        "## Trip Duration Vs Passanger Count"
      ],
      "metadata": {
        "id": "QCjFV4v6fWlr"
      }
    },
    {
      "cell_type": "code",
      "source": [
        "# visualization of Passanger Count and Average trip duration\n",
        "passanger_Count_vs_trip_d = round(df.groupby('passenger_count')['trip_duration'].mean(),0)\n",
        "plt.figure(figsize=(10,5))\n",
        "ax = sns.barplot(passanger_Count_vs_trip_d.index,passanger_Count_vs_trip_d.values)\n",
        "for p in ax.patches:\n",
        "    ax.annotate(f'\\n{p.get_height()}', (p.get_x()+0.2, p.get_height()), color='black', size=13)\n",
        "plt.ylabel('Trip Duration (seconds)')\n",
        "plt.xlabel('Passenger Count')\n",
        "plt.title('Passenger Count vs Average Trip Duration',fontsize=20,weight='bold')\n",
        "plt.show()"
      ],
      "metadata": {
        "colab": {
          "base_uri": "https://localhost:8080/",
          "height": 355
        },
        "id": "iYaGN5kCfWL_",
        "outputId": "9cbbc107-ad05-4bff-fa54-745093cb08e0"
      },
      "execution_count": 78,
      "outputs": [
        {
          "output_type": "display_data",
          "data": {
            "image/png": "[encoded data removed]",
            "text/plain": [
              "<Figure size 720x360 with 1 Axes>"
            ]
          },
          "metadata": {
            "needs_background": "light"
          }
        }
      ]
    },
    {
      "cell_type": "markdown",
      "source": [
        "#### Trip duration for all the passanger counts are aprrox similar. except passanger count 1( average trip duratuion of passanger count 1 is lower than others)."
      ],
      "metadata": {
        "id": "tIZOpy9CgMBb"
      }
    },
    {
      "cell_type": "code",
      "source": [
        ""
      ],
      "metadata": {
        "id": "M6ZOCJE1fq_S"
      },
      "execution_count": 52,
      "outputs": []
    },
    {
      "cell_type": "markdown",
      "source": [
        "##Trip Duration Vs PickUp_Hour"
      ],
      "metadata": {
        "id": "pIPC87P_hd3r"
      }
    },
    {
      "cell_type": "code",
      "source": [
        "# visualization of PickUp Hour and Average trip duration\n",
        "td_ph = df.groupby('pickup_hour')['trip_duration'].mean()\n",
        "plt.figure(figsize=(10,7))\n",
        "sns.pointplot(td_ph.index,td_ph.values)\n",
        "plt.ylabel('Trip Duration (seconds)')\n",
        "plt.xlabel('Pickup Hour')\n",
        "plt.title('Pickup Hour vs Average Trip Duration',fontsize=20,weight='bold')\n",
        "plt.show()"
      ],
      "metadata": {
        "colab": {
          "base_uri": "https://localhost:8080/",
          "height": 463
        },
        "id": "O7wAmQTciKMq",
        "outputId": "7333bed1-dcad-4907-cdd7-e97571a7b2d7"
      },
      "execution_count": 79,
      "outputs": [
        {
          "output_type": "display_data",
          "data": {
            "image/png": "[encoded data removed]",
            "text/plain": [
              "<Figure size 720x504 with 1 Axes>"
            ]
          },
          "metadata": {
            "needs_background": "light"
          }
        }
      ]
    },
    {
      "cell_type": "markdown",
      "source": [
        "#### Average trip duration is lower at 6am in the morning due to minimal traffic on the road. and higher at 15 hour(3pm) because streets are bust at this time."
      ],
      "metadata": {
        "id": "Wo7d9P_ZjXId"
      }
    },
    {
      "cell_type": "code",
      "source": [
        ""
      ],
      "metadata": {
        "id": "iIgbMzxdtbz1"
      },
      "execution_count": 53,
      "outputs": []
    },
    {
      "cell_type": "markdown",
      "source": [
        "## Trip Duration vs PickUp Month"
      ],
      "metadata": {
        "id": "bZDepDIctcLn"
      }
    },
    {
      "cell_type": "code",
      "source": [
        "# visualization of PickUp Month and Average trip duration\n",
        "td_pm = df.groupby('pickup_month')['trip_duration'].mean()\n",
        "plt.figure(figsize=(10,7))\n",
        "sns.pointplot(td_pm.index,td_pm.values)\n",
        "plt.ylabel('Trip Duration (seconds)')\n",
        "plt.xlabel('pickup Month')\n",
        "plt.title('Pickup Month vs Average Trip Duration',fontsize=20,weight='bold')\n",
        "plt.show()"
      ],
      "metadata": {
        "colab": {
          "base_uri": "https://localhost:8080/",
          "height": 463
        },
        "id": "gqe_6XL_icwv",
        "outputId": "82070153-a238-48e9-f004-48ecb3841462"
      },
      "execution_count": 80,
      "outputs": [
        {
          "output_type": "display_data",
          "data": {
            "image/png": "[encoded data removed]",
            "text/plain": [
              "<Figure size 720x504 with 1 Axes>"
            ]
          },
          "metadata": {
            "needs_background": "light"
          }
        }
      ]
    },
    {
      "cell_type": "markdown",
      "source": [
        "#### Average Trip duration is increasing along with each subsequent month.\n",
        "#### we can see that at the time of winter jan and feb average trip duration is less may be due to less traffic in winters but as summer approches the average trip duration is started increasing."
      ],
      "metadata": {
        "id": "b7PxfNsIqXHo"
      }
    },
    {
      "cell_type": "code",
      "source": [
        ""
      ],
      "metadata": {
        "id": "iGUQ1Iqlkqjh"
      },
      "execution_count": 54,
      "outputs": []
    },
    {
      "cell_type": "markdown",
      "source": [
        "##Trip Duration vs WeekDays"
      ],
      "metadata": {
        "id": "pm1tSDCGtYMd"
      }
    },
    {
      "cell_type": "code",
      "source": [
        "# visualization of weekdays and Average trip duration\n",
        "td_pwd = df.groupby('weekday_day')['trip_duration'].mean()\n",
        "plt.figure(figsize=(10,7))\n",
        "sns.pointplot(td_pwd.index,td_pwd.values,order=[\"Monday\", \"Tuesday\", \"Wednesday\", \"Thursday\", \"Friday\", \"Saturday\",\"Sunday\"])\n",
        "plt.ylabel('Trip Duration (seconds)')\n",
        "plt.xlabel('Weekday Day')\n",
        "plt.title('Weekday Day vs Average Trip Duration',fontsize=20,weight='bold')\n",
        "plt.show()"
      ],
      "metadata": {
        "colab": {
          "base_uri": "https://localhost:8080/",
          "height": 463
        },
        "id": "rh1wdDYlr59Y",
        "outputId": "66ba7ec0-ba18-4fe0-9f82-9d994478c447"
      },
      "execution_count": 81,
      "outputs": [
        {
          "output_type": "display_data",
          "data": {
            "image/png": "[encoded data removed]",
            "text/plain": [
              "<Figure size 720x504 with 1 Axes>"
            ]
          },
          "metadata": {
            "needs_background": "light"
          }
        }
      ]
    },
    {
      "cell_type": "markdown",
      "source": [
        "#### we can see that Average trip duration is alomst same and lowest on monday and sunday.\n",
        "#### Average trip duration is highest on thrusday."
      ],
      "metadata": {
        "id": "aGFHdmSasosI"
      }
    },
    {
      "cell_type": "code",
      "source": [
        ""
      ],
      "metadata": {
        "id": "PWPnTgrbselo"
      },
      "execution_count": 55,
      "outputs": []
    },
    {
      "cell_type": "code",
      "source": [
        "df.head()"
      ],
      "metadata": {
        "id": "xtp-tDjFt5wM",
        "colab": {
          "base_uri": "https://localhost:8080/",
          "height": 357
        },
        "outputId": "41a8c718-25b0-48b9-d7c3-3520f49d8976"
      },
      "execution_count": 56,
      "outputs": [
        {
          "output_type": "execute_result",
          "data": {
            "text/html": [
              "\n",
              "  <div id=\"df-fa4fa66a-867c-4b6d-a59c-681c61329e6b\">\n",
              "    <div class=\"colab-df-container\">\n",
              "      <div>\n",
              "<style scoped>\n",
              "    .dataframe tbody tr th:only-of-type {\n",
              "        vertical-align: middle;\n",
              "    }\n",
              "\n",
              "    .dataframe tbody tr th {\n",
              "        vertical-align: top;\n",
              "    }\n",
              "\n",
              "    .dataframe thead th {\n",
              "        text-align: right;\n",
              "    }\n",
              "</style>\n",
              "<table border=\"1\" class=\"dataframe\">\n",
              "  <thead>\n",
              "    <tr style=\"text-align: right;\">\n",
              "      <th></th>\n",
              "      <th>id</th>\n",
              "      <th>vendor_id</th>\n",
              "      <th>pickup_datetime</th>\n",
              "      <th>dropoff_datetime</th>\n",
              "      <th>passenger_count</th>\n",
              "      <th>pickup_longitude</th>\n",
              "      <th>pickup_latitude</th>\n",
              "      <th>dropoff_longitude</th>\n",
              "      <th>dropoff_latitude</th>\n",
              "      <th>store_and_fwd_flag</th>\n",
              "      <th>trip_duration</th>\n",
              "      <th>pickup_hour</th>\n",
              "      <th>pickup_month</th>\n",
              "      <th>weekday_num</th>\n",
              "      <th>weekday_day</th>\n",
              "      <th>distance</th>\n",
              "      <th>speed</th>\n",
              "    </tr>\n",
              "  </thead>\n",
              "  <tbody>\n",
              "    <tr>\n",
              "      <th>0</th>\n",
              "      <td>id2875421</td>\n",
              "      <td>2</td>\n",
              "      <td>2016-03-14 17:24:55</td>\n",
              "      <td>2016-03-14 17:32:30</td>\n",
              "      <td>1</td>\n",
              "      <td>-73.982155</td>\n",
              "      <td>40.767937</td>\n",
              "      <td>-73.964630</td>\n",
              "      <td>40.765602</td>\n",
              "      <td>N</td>\n",
              "      <td>455</td>\n",
              "      <td>17</td>\n",
              "      <td>3</td>\n",
              "      <td>0</td>\n",
              "      <td>Monday</td>\n",
              "      <td>1.498523</td>\n",
              "      <td>11.86</td>\n",
              "    </tr>\n",
              "    <tr>\n",
              "      <th>1</th>\n",
              "      <td>id2377394</td>\n",
              "      <td>1</td>\n",
              "      <td>2016-06-12 00:43:35</td>\n",
              "      <td>2016-06-12 00:54:38</td>\n",
              "      <td>1</td>\n",
              "      <td>-73.980415</td>\n",
              "      <td>40.738564</td>\n",
              "      <td>-73.999481</td>\n",
              "      <td>40.731152</td>\n",
              "      <td>N</td>\n",
              "      <td>663</td>\n",
              "      <td>0</td>\n",
              "      <td>6</td>\n",
              "      <td>6</td>\n",
              "      <td>Sunday</td>\n",
              "      <td>1.805510</td>\n",
              "      <td>9.80</td>\n",
              "    </tr>\n",
              "    <tr>\n",
              "      <th>2</th>\n",
              "      <td>id3858529</td>\n",
              "      <td>2</td>\n",
              "      <td>2016-01-19 11:35:24</td>\n",
              "      <td>2016-01-19 12:10:48</td>\n",
              "      <td>1</td>\n",
              "      <td>-73.979027</td>\n",
              "      <td>40.763939</td>\n",
              "      <td>-74.005333</td>\n",
              "      <td>40.710087</td>\n",
              "      <td>N</td>\n",
              "      <td>2124</td>\n",
              "      <td>11</td>\n",
              "      <td>1</td>\n",
              "      <td>1</td>\n",
              "      <td>Tuesday</td>\n",
              "      <td>6.385107</td>\n",
              "      <td>10.82</td>\n",
              "    </tr>\n",
              "    <tr>\n",
              "      <th>3</th>\n",
              "      <td>id3504673</td>\n",
              "      <td>2</td>\n",
              "      <td>2016-04-06 19:32:31</td>\n",
              "      <td>2016-04-06 19:39:40</td>\n",
              "      <td>1</td>\n",
              "      <td>-74.010040</td>\n",
              "      <td>40.719971</td>\n",
              "      <td>-74.012268</td>\n",
              "      <td>40.706718</td>\n",
              "      <td>N</td>\n",
              "      <td>429</td>\n",
              "      <td>19</td>\n",
              "      <td>4</td>\n",
              "      <td>2</td>\n",
              "      <td>Wednesday</td>\n",
              "      <td>1.485500</td>\n",
              "      <td>12.47</td>\n",
              "    </tr>\n",
              "    <tr>\n",
              "      <th>4</th>\n",
              "      <td>id2181028</td>\n",
              "      <td>2</td>\n",
              "      <td>2016-03-26 13:30:55</td>\n",
              "      <td>2016-03-26 13:38:10</td>\n",
              "      <td>1</td>\n",
              "      <td>-73.973053</td>\n",
              "      <td>40.793209</td>\n",
              "      <td>-73.972923</td>\n",
              "      <td>40.782520</td>\n",
              "      <td>N</td>\n",
              "      <td>435</td>\n",
              "      <td>13</td>\n",
              "      <td>3</td>\n",
              "      <td>5</td>\n",
              "      <td>Saturday</td>\n",
              "      <td>1.188590</td>\n",
              "      <td>9.84</td>\n",
              "    </tr>\n",
              "  </tbody>\n",
              "</table>\n",
              "</div>\n",
              "      <button class=\"colab-df-convert\" onclick=\"convertToInteractive('df-fa4fa66a-867c-4b6d-a59c-681c61329e6b')\"\n",
              "              title=\"Convert this dataframe to an interactive table.\"\n",
              "              style=\"display:none;\">\n",
              "        \n",
              "  <svg xmlns=\"http://www.w3.org/2000/svg\" height=\"24px\"viewBox=\"0 0 24 24\"\n",
              "       width=\"24px\">\n",
              "    <path d=\"M0 0h24v24H0V0z\" fill=\"none\"/>\n",
              "    <path d=\"M18.56 5.44l.94 2.06.94-2.06 2.06-.94-2.06-.94-.94-2.06-.94 2.06-2.06.94zm-11 1L8.5 8.5l.94-2.06 2.06-.94-2.06-.94L8.5 2.5l-.94 2.06-2.06.94zm10 10l.94 2.06.94-2.06 2.06-.94-2.06-.94-.94-2.06-.94 2.06-2.06.94z\"/><path d=\"M17.41 7.96l-1.37-1.37c-.4-.4-.92-.59-1.43-.59-.52 0-1.04.2-1.43.59L10.3 9.45l-7.72 7.72c-.78.78-.78 2.05 0 2.83L4 21.41c.39.39.9.59 1.41.59.51 0 1.02-.2 1.41-.59l7.78-7.78 2.81-2.81c.8-.78.8-2.07 0-2.86zM5.41 20L4 18.59l7.72-7.72 1.47 1.35L5.41 20z\"/>\n",
              "  </svg>\n",
              "      </button>\n",
              "      \n",
              "  <style>\n",
              "    .colab-df-container {\n",
              "      display:flex;\n",
              "      flex-wrap:wrap;\n",
              "      gap: 12px;\n",
              "    }\n",
              "\n",
              "    .colab-df-convert {\n",
              "      background-color: #E8F0FE;\n",
              "      border: none;\n",
              "      border-radius: 50%;\n",
              "      cursor: pointer;\n",
              "      display: none;\n",
              "      fill: #1967D2;\n",
              "      height: 32px;\n",
              "      padding: 0 0 0 0;\n",
              "      width: 32px;\n",
              "    }\n",
              "\n",
              "    .colab-df-convert:hover {\n",
              "      background-color: #E2EBFA;\n",
              "      box-shadow: 0px 1px 2px rgba(60, 64, 67, 0.3), 0px 1px 3px 1px rgba(60, 64, 67, 0.15);\n",
              "      fill: #174EA6;\n",
              "    }\n",
              "\n",
              "    [theme=dark] .colab-df-convert {\n",
              "      background-color: #3B4455;\n",
              "      fill: #D2E3FC;\n",
              "    }\n",
              "\n",
              "    [theme=dark] .colab-df-convert:hover {\n",
              "      background-color: #434B5C;\n",
              "      box-shadow: 0px 1px 3px 1px rgba(0, 0, 0, 0.15);\n",
              "      filter: drop-shadow(0px 1px 2px rgba(0, 0, 0, 0.3));\n",
              "      fill: #FFFFFF;\n",
              "    }\n",
              "  </style>\n",
              "\n",
              "      <script>\n",
              "        const buttonEl =\n",
              "          document.querySelector('#df-fa4fa66a-867c-4b6d-a59c-681c61329e6b button.colab-df-convert');\n",
              "        buttonEl.style.display =\n",
              "          google.colab.kernel.accessAllowed ? 'block' : 'none';\n",
              "\n",
              "        async function convertToInteractive(key) {\n",
              "          const element = document.querySelector('#df-fa4fa66a-867c-4b6d-a59c-681c61329e6b');\n",
              "          const dataTable =\n",
              "            await google.colab.kernel.invokeFunction('convertToInteractive',\n",
              "                                                     [key], {});\n",
              "          if (!dataTable) return;\n",
              "\n",
              "          const docLinkHtml = 'Like what you see? Visit the ' +\n",
              "            '<a target=\"_blank\" href=https://colab.research.google.com/notebooks/data_table.ipynb>data table notebook</a>'\n",
              "            + ' to learn more about interactive tables.';\n",
              "          element.innerHTML = '';\n",
              "          dataTable['output_type'] = 'display_data';\n",
              "          await google.colab.output.renderOutput(dataTable, element);\n",
              "          const docLink = document.createElement('div');\n",
              "          docLink.innerHTML = docLinkHtml;\n",
              "          element.appendChild(docLink);\n",
              "        }\n",
              "      </script>\n",
              "    </div>\n",
              "  </div>\n",
              "  "
            ],
            "text/plain": [
              "          id  vendor_id     pickup_datetime  ... weekday_day  distance  speed\n",
              "0  id2875421          2 2016-03-14 17:24:55  ...      Monday  1.498523  11.86\n",
              "1  id2377394          1 2016-06-12 00:43:35  ...      Sunday  1.805510   9.80\n",
              "2  id3858529          2 2016-01-19 11:35:24  ...     Tuesday  6.385107  10.82\n",
              "3  id3504673          2 2016-04-06 19:32:31  ...   Wednesday  1.485500  12.47\n",
              "4  id2181028          2 2016-03-26 13:30:55  ...    Saturday  1.188590   9.84\n",
              "\n",
              "[5 rows x 17 columns]"
            ]
          },
          "metadata": {},
          "execution_count": 56
        }
      ]
    },
    {
      "cell_type": "code",
      "source": [
        ""
      ],
      "metadata": {
        "id": "3q2fJdueOYsq"
      },
      "execution_count": 56,
      "outputs": []
    },
    {
      "cell_type": "markdown",
      "source": [
        "## Distance vs Vendor "
      ],
      "metadata": {
        "id": "FurhnhlhOUpz"
      }
    },
    {
      "cell_type": "code",
      "source": [
        "# visualization Average distance traveled by per vendor\n",
        "plt.figure(figsize=(10,5))\n",
        "vi_vs_d = round(df.groupby('vendor_id')['distance'].mean(),2)\n",
        "ax = sns.barplot(vi_vs_d.index,vi_vs_d.values)\n",
        "for p in ax.patches:\n",
        "    ax.annotate(f'\\n{p.get_height()}', (p.get_x()+0.2, p.get_height()), color='black', size=13)\n",
        "plt.ylabel('Distance (KM)')\n",
        "plt.xlabel('Vendor')\n",
        "plt.title('Vendor vs Average Distance',fontsize=20,weight='bold')\n",
        "plt.show()"
      ],
      "metadata": {
        "colab": {
          "base_uri": "https://localhost:8080/",
          "height": 355
        },
        "id": "a5TWfb2FNN0t",
        "outputId": "ca2f8f8c-ad07-4d4f-a1a4-3aacae03899b"
      },
      "execution_count": 94,
      "outputs": [
        {
          "output_type": "display_data",
          "data": {
            "image/png": "[encoded data removed]",
            "text/plain": [
              "<Figure size 720x360 with 1 Axes>"
            ]
          },
          "metadata": {
            "needs_background": "light"
          }
        }
      ]
    },
    {
      "cell_type": "markdown",
      "source": [
        "#### Average distance travel by both vendors is kind of similar."
      ],
      "metadata": {
        "id": "n_ISa4hoN_1G"
      }
    },
    {
      "cell_type": "code",
      "source": [
        ""
      ],
      "metadata": {
        "id": "znf6EbSMSYQv"
      },
      "execution_count": 84,
      "outputs": []
    },
    {
      "cell_type": "markdown",
      "source": [
        "## Distance Vs Pickup Hour"
      ],
      "metadata": {
        "id": "XuBcnVAZSY0B"
      }
    },
    {
      "cell_type": "code",
      "source": [
        "# visualization of Average distance by Pickup Hour\n",
        "plt.figure(figsize=(10,5))\n",
        "ph_vs_d =  df.groupby('pickup_hour')['distance'].mean()\n",
        "sns.pointplot(ph_vs_d.index,ph_vs_d.values)\n",
        "plt.ylabel('Distance (KM)')\n",
        "plt.xlabel('Pichup Hour')\n",
        "plt.title('Pichup Hour vs Average Distance',fontsize=20,weight='bold')\n",
        "plt.show()"
      ],
      "metadata": {
        "colab": {
          "base_uri": "https://localhost:8080/",
          "height": 355
        },
        "id": "WI_xYevaOh43",
        "outputId": "af7394fd-73d4-4de8-b0a3-25ef265acbb8"
      },
      "execution_count": 85,
      "outputs": [
        {
          "output_type": "display_data",
          "data": {
            "image/png": "[encoded data removed]",
            "text/plain": [
              "<Figure size 720x360 with 1 Axes>"
            ]
          },
          "metadata": {
            "needs_background": "light"
          }
        }
      ]
    },
    {
      "cell_type": "markdown",
      "source": [
        "####Average Trip distance is heighest in the early morning between 4 to 6 am.\n",
        "#### and kinda similar from morning to evening varing around 3 to 3.5 km.\n",
        "#### then it started increasing from evening throughout late night till 5 am in the morning."
      ],
      "metadata": {
        "id": "C8iiFuRmQQnN"
      }
    },
    {
      "cell_type": "code",
      "source": [
        ""
      ],
      "metadata": {
        "id": "pGx--hnmPRbc"
      },
      "execution_count": 58,
      "outputs": []
    },
    {
      "cell_type": "markdown",
      "source": [
        "##Distance Vs Pickup Month"
      ],
      "metadata": {
        "id": "pgVri1r_Sd30"
      }
    },
    {
      "cell_type": "code",
      "source": [
        "# visualization of Average distance by Pickup Month\n",
        "plt.figure(figsize=(10,5))\n",
        "pm_vs_d = df.groupby('pickup_month')['distance'].mean()\n",
        "sns.pointplot(pm_vs_d.index,pm_vs_d.values)\n",
        "plt.ylabel('Distance (KM)')\n",
        "plt.xlabel('Pichup Month')\n",
        "plt.title('Pichup Month vs Average Distance',fontsize=20,weight='bold')\n",
        "plt.show()"
      ],
      "metadata": {
        "colab": {
          "base_uri": "https://localhost:8080/",
          "height": 355
        },
        "id": "jD0jWu_wShRA",
        "outputId": "f8c44a7e-1a43-455e-a84a-68fc4e91457a"
      },
      "execution_count": 86,
      "outputs": [
        {
          "output_type": "display_data",
          "data": {
            "image/png": "[encoded data removed]",
            "text/plain": [
              "<Figure size 720x360 with 1 Axes>"
            ]
          },
          "metadata": {
            "needs_background": "light"
          }
        }
      ]
    },
    {
      "cell_type": "markdown",
      "source": [
        "#### Average Trip distance is lowest in Feb and heighest in may.\n",
        "#### Average Trip distance is varing around 3 to 3.5 km acorss the month except 2nd month(feb)."
      ],
      "metadata": {
        "id": "RBaLh4hCT3_v"
      }
    },
    {
      "cell_type": "code",
      "source": [
        ""
      ],
      "metadata": {
        "id": "IP39Od3BT3PP"
      },
      "execution_count": 59,
      "outputs": []
    },
    {
      "cell_type": "markdown",
      "source": [
        "## Distance vs weekdays"
      ],
      "metadata": {
        "id": "1j-jy_5gU1k2"
      }
    },
    {
      "cell_type": "code",
      "source": [
        "# visualization of Average distance by weekdays\n",
        "plt.figure(figsize=(10,5))\n",
        "wd_vs_d = df.groupby('weekday_day')['distance'].mean()\n",
        "sns.pointplot(wd_vs_d.index,wd_vs_d.values,order=[\"Monday\", \"Tuesday\", \"Wednesday\", \"Thursday\", \"Friday\", \"Saturday\",\"Sunday\"])\n",
        "plt.ylabel('Distance (KM)')\n",
        "plt.xlabel('WeekDays')\n",
        "plt.title('WeekDays vs Average Distance',fontsize=20,weight='bold')\n",
        "plt.show()"
      ],
      "metadata": {
        "colab": {
          "base_uri": "https://localhost:8080/",
          "height": 355
        },
        "id": "ZIL3hVnMSwGi",
        "outputId": "3ead4db3-501c-443d-8655-0970d227f577"
      },
      "execution_count": 87,
      "outputs": [
        {
          "output_type": "display_data",
          "data": {
            "image/png": "[encoded data removed]",
            "text/plain": [
              "<Figure size 720x360 with 1 Axes>"
            ]
          },
          "metadata": {
            "needs_background": "light"
          }
        }
      ]
    },
    {
      "cell_type": "markdown",
      "source": [
        "#### Average Trip Distance in between Tuesday to Saturday is in range of 3 to 3.4 km.\n",
        "#### Maximum Average trip distance is on sunday followed by monday. and mimimun on Saturday."
      ],
      "metadata": {
        "id": "vncxyTlKVk3V"
      }
    },
    {
      "cell_type": "code",
      "source": [
        ""
      ],
      "metadata": {
        "id": "co5l3bXIVb1B"
      },
      "execution_count": 60,
      "outputs": []
    },
    {
      "cell_type": "markdown",
      "source": [
        "## Distance vs Trip Duration"
      ],
      "metadata": {
        "id": "ODovzLigaz-e"
      }
    },
    {
      "cell_type": "code",
      "source": [
        "# visualization of distance and trip duration\n",
        "plt.figure(figsize=(10,5))\n",
        "plt.scatter(df.trip_duration, df.distance)\n",
        "plt.ylabel('Distance (KM)')\n",
        "plt.xlabel('Trip Duration')\n",
        "plt.title('Trip Duration vs Distance',fontsize=20,weight='bold')\n",
        "plt.show()"
      ],
      "metadata": {
        "colab": {
          "base_uri": "https://localhost:8080/",
          "height": 355
        },
        "id": "w32GT6SwaztX",
        "outputId": "46384862-1d4c-4863-a80d-75390d579996"
      },
      "execution_count": 61,
      "outputs": [
        {
          "output_type": "display_data",
          "data": {
            "image/png": "[encoded data removed]",
            "text/plain": [
              "<Figure size 720x360 with 1 Axes>"
            ]
          },
          "metadata": {
            "needs_background": "light"
          }
        }
      ]
    },
    {
      "cell_type": "markdown",
      "source": [
        "#### There are some trips which less than 25km but duration is more than 20000 seconds."
      ],
      "metadata": {
        "id": "uxPQTBZ1c1Dt"
      }
    },
    {
      "cell_type": "markdown",
      "source": [
        "#### lets take trip duration less 2000 seconds and then analyze the graph."
      ],
      "metadata": {
        "id": "Lmp8Bet3ddL9"
      }
    },
    {
      "cell_type": "code",
      "source": [
        "# visualization of distance and trip duration less than 2000 seconds\n",
        "plt.figure(figsize=(10,5))\n",
        "dis_ = df[df['trip_duration']<2000][['distance','trip_duration']]\n",
        "plt.scatter(dis_.trip_duration,dis_.distance , s=1, alpha=0.5)\n",
        "plt.ylabel('Distance')\n",
        "plt.xlabel('Trip Duration')\n",
        "plt.title('Trip Duration Vs Distance')\n",
        "plt.show()"
      ],
      "metadata": {
        "colab": {
          "base_uri": "https://localhost:8080/",
          "height": 350
        },
        "id": "YVYcN6ZKchpV",
        "outputId": "bd97ab1a-b058-477c-dc19-918af7c22777"
      },
      "execution_count": 62,
      "outputs": [
        {
          "output_type": "display_data",
          "data": {
            "image/png": "[encoded data removed]",
            "text/plain": [
              "<Figure size 720x360 with 1 Axes>"
            ]
          },
          "metadata": {
            "needs_background": "light"
          }
        }
      ]
    },
    {
      "cell_type": "markdown",
      "source": [
        "#### we can see that there is non linera relationship between trip duration and distance may be because of traffics and all.\n",
        "#### we are going to remove all those trips with duration less then 60 seconds. Bcause there are 7053 trips with less than 60 seonds may be because people will cancled their booking within 60 seconds of booking."
      ],
      "metadata": {
        "id": "UiEmd7WofP5N"
      }
    },
    {
      "cell_type": "code",
      "source": [
        "# removing trips with duration less than 60 seconds.\n",
        "df = df[df['trip_duration']>60]"
      ],
      "metadata": {
        "id": "_Chrc_GDhkO0"
      },
      "execution_count": 63,
      "outputs": []
    },
    {
      "cell_type": "markdown",
      "source": [
        "#### And now we are going to remove those trips which traveled less than equal to 1 km and has taken more than half hour to bring in more consistency to our results."
      ],
      "metadata": {
        "id": "WTWLNegRqQYW"
      }
    },
    {
      "cell_type": "code",
      "source": [
        "# removing trips whise distance is less than 1 km and trip duration is more than 1700 seconds(30 minutes)\n",
        "df = df[~((df['distance'] <= 1) & (df['trip_duration'] >= 1700))]"
      ],
      "metadata": {
        "id": "-eXlVOo0q2JM"
      },
      "execution_count": 64,
      "outputs": []
    },
    {
      "cell_type": "markdown",
      "source": [
        "## Passanger vs Vendor"
      ],
      "metadata": {
        "id": "EOCapvw5s0xF"
      }
    },
    {
      "cell_type": "code",
      "source": [
        "# visualization of trip done by vendors according to passanger count\n",
        "df.groupby('passenger_count').vendor_id.value_counts().reset_index(name='count').pivot(\"passenger_count\",\"vendor_id\",\"count\").plot(kind='bar')\n",
        "plt.show()"
      ],
      "metadata": {
        "colab": {
          "base_uri": "https://localhost:8080/",
          "height": 276
        },
        "id": "GGEKl7YPrNVG",
        "outputId": "abb4e2c7-5227-4e01-c78f-06201a25f11f"
      },
      "execution_count": 65,
      "outputs": [
        {
          "output_type": "display_data",
          "data": {
            "image/png": "[encoded data removed]",
            "text/plain": [
              "<Figure size 432x288 with 1 Axes>"
            ]
          },
          "metadata": {
            "needs_background": "light"
          }
        }
      ]
    },
    {
      "cell_type": "markdown",
      "source": [
        "#### from the above visualization we can understand that vender 2 has more market share than vendor 1.\n",
        "#### And vender 2 are carrying more number of people which means vendor 2 has more big cars or may be vendor 2 allow more passanger to sit.\n",
        "#### vendor 1 has large market share in term of single passanger may be because vendor 1 has more minicars than big cars."
      ],
      "metadata": {
        "id": "2XFaT6sNs6tM"
      }
    },
    {
      "cell_type": "code",
      "source": [
        "# removing trips with duration more than 20000 seconds.\n",
        "df = df[df['trip_duration']<20000]"
      ],
      "metadata": {
        "id": "ZuvRTa8TsdpI"
      },
      "execution_count": 90,
      "outputs": []
    },
    {
      "cell_type": "code",
      "source": [
        "df.shape"
      ],
      "metadata": {
        "colab": {
          "base_uri": "https://localhost:8080/"
        },
        "id": "4piE82usyHeN",
        "outputId": "0891acd2-e712-4003-f4e4-813cbe474d0d"
      },
      "execution_count": 91,
      "outputs": [
        {
          "output_type": "execute_result",
          "data": {
            "text/plain": [
              "(1441878, 17)"
            ]
          },
          "metadata": {},
          "execution_count": 91
        }
      ]
    },
    {
      "cell_type": "code",
      "source": [
        ""
      ],
      "metadata": {
        "id": "bcBhTl_dpvFO"
      },
      "execution_count": 91,
      "outputs": []
    },
    {
      "cell_type": "markdown",
      "source": [
        "## Speed vs Pickup  Hour"
      ],
      "metadata": {
        "id": "vX1dufk9rhQA"
      }
    },
    {
      "cell_type": "code",
      "source": [
        "# visualization of Average speed by pickup hour\n",
        "plt.figure(figsize=(15,5))\n",
        "speed_vs_ph =  df.groupby('pickup_hour')['speed'].mean()\n",
        "sns.pointplot(speed_vs_ph.index,speed_vs_ph.values)\n",
        "plt.ylabel('Speed (KM/H)')\n",
        "plt.xlabel('Pickup Hour')\n",
        "plt.title('Average Speed vs pickup hour',fontsize=20,weight='bold')\n",
        "plt.show()"
      ],
      "metadata": {
        "colab": {
          "base_uri": "https://localhost:8080/",
          "height": 355
        },
        "id": "A5wpatuTrmf5",
        "outputId": "79a3b3a3-2d69-420e-bf0f-f98fdc94958f"
      },
      "execution_count": 93,
      "outputs": [
        {
          "output_type": "display_data",
          "data": {
            "image/png": "[encoded data removed]",
            "text/plain": [
              "<Figure size 1080x360 with 1 Axes>"
            ]
          },
          "metadata": {
            "needs_background": "light"
          }
        }
      ]
    },
    {
      "cell_type": "markdown",
      "source": [
        "#### As we can see that average speed is heighest in the early morning between 4 to 6 am which is in range of 20 to 24 km/h, when traffic is less. and started decreasing when office hours approches.\n",
        "#### Average taxi speed is more or less same during the office hours i.e. from 8 AM till 6PM in the evening. which is in range of 12 to 13 km/h.\n",
        "#### And then strated increasing from 6 pm to 5 am in the morning."
      ],
      "metadata": {
        "id": "PFcgN_qzsQcS"
      }
    },
    {
      "cell_type": "code",
      "source": [
        ""
      ],
      "metadata": {
        "id": "pwYZB4YMsx9a"
      },
      "execution_count": null,
      "outputs": []
    },
    {
      "cell_type": "markdown",
      "source": [
        "## Speed Vs Weekdays"
      ],
      "metadata": {
        "id": "LJYI0_QRup0D"
      }
    },
    {
      "cell_type": "code",
      "source": [
        "# visualization of Average speed by weekdays\n",
        "plt.figure(figsize=(10,5))\n",
        "speed_vs_wd =  df.groupby('weekday_day')['speed'].mean()\n",
        "sns.pointplot(speed_vs_wd.index,speed_vs_wd.values,order=[\"Monday\", \"Tuesday\", \"Wednesday\", \"Thursday\", \"Friday\", \"Saturday\",\"Sunday\"])\n",
        "plt.ylabel('Speed (KM/H)')\n",
        "plt.xlabel('WeekDays')\n",
        "plt.title('Average Speed vs WeekDays',fontsize=20,weight='bold')\n",
        "plt.show()"
      ],
      "metadata": {
        "colab": {
          "base_uri": "https://localhost:8080/",
          "height": 355
        },
        "id": "QZnyw4q0upVe",
        "outputId": "175159ee-80b2-4ab7-9e13-d1083175c59a"
      },
      "execution_count": 95,
      "outputs": [
        {
          "output_type": "display_data",
          "data": {
            "image/png": "[encoded data removed]",
            "text/plain": [
              "<Figure size 720x360 with 1 Axes>"
            ]
          },
          "metadata": {
            "needs_background": "light"
          }
        }
      ]
    },
    {
      "cell_type": "markdown",
      "source": [
        "#### Average speed is heighest during the weeknds in compare to weekdays which is obvious because of office goers and all."
      ],
      "metadata": {
        "id": "7VkUibNdvkJA"
      }
    },
    {
      "cell_type": "code",
      "source": [
        "df.head()"
      ],
      "metadata": {
        "colab": {
          "base_uri": "https://localhost:8080/",
          "height": 357
        },
        "id": "sLYw_KDs126W",
        "outputId": "57124370-2f4a-4322-ea41-d14a5d7006e7"
      },
      "execution_count": 96,
      "outputs": [
        {
          "output_type": "execute_result",
          "data": {
            "text/html": [
              "\n",
              "  <div id=\"df-fe27adff-d344-4222-ba2a-add418bd29c6\">\n",
              "    <div class=\"colab-df-container\">\n",
              "      <div>\n",
              "<style scoped>\n",
              "    .dataframe tbody tr th:only-of-type {\n",
              "        vertical-align: middle;\n",
              "    }\n",
              "\n",
              "    .dataframe tbody tr th {\n",
              "        vertical-align: top;\n",
              "    }\n",
              "\n",
              "    .dataframe thead th {\n",
              "        text-align: right;\n",
              "    }\n",
              "</style>\n",
              "<table border=\"1\" class=\"dataframe\">\n",
              "  <thead>\n",
              "    <tr style=\"text-align: right;\">\n",
              "      <th></th>\n",
              "      <th>id</th>\n",
              "      <th>vendor_id</th>\n",
              "      <th>pickup_datetime</th>\n",
              "      <th>dropoff_datetime</th>\n",
              "      <th>passenger_count</th>\n",
              "      <th>pickup_longitude</th>\n",
              "      <th>pickup_latitude</th>\n",
              "      <th>dropoff_longitude</th>\n",
              "      <th>dropoff_latitude</th>\n",
              "      <th>store_and_fwd_flag</th>\n",
              "      <th>trip_duration</th>\n",
              "      <th>pickup_hour</th>\n",
              "      <th>pickup_month</th>\n",
              "      <th>weekday_num</th>\n",
              "      <th>weekday_day</th>\n",
              "      <th>distance</th>\n",
              "      <th>speed</th>\n",
              "    </tr>\n",
              "  </thead>\n",
              "  <tbody>\n",
              "    <tr>\n",
              "      <th>0</th>\n",
              "      <td>id2875421</td>\n",
              "      <td>2</td>\n",
              "      <td>2016-03-14 17:24:55</td>\n",
              "      <td>2016-03-14 17:32:30</td>\n",
              "      <td>1</td>\n",
              "      <td>-73.982155</td>\n",
              "      <td>40.767937</td>\n",
              "      <td>-73.964630</td>\n",
              "      <td>40.765602</td>\n",
              "      <td>N</td>\n",
              "      <td>455</td>\n",
              "      <td>17</td>\n",
              "      <td>3</td>\n",
              "      <td>0</td>\n",
              "      <td>Monday</td>\n",
              "      <td>1.498523</td>\n",
              "      <td>11.86</td>\n",
              "    </tr>\n",
              "    <tr>\n",
              "      <th>1</th>\n",
              "      <td>id2377394</td>\n",
              "      <td>1</td>\n",
              "      <td>2016-06-12 00:43:35</td>\n",
              "      <td>2016-06-12 00:54:38</td>\n",
              "      <td>1</td>\n",
              "      <td>-73.980415</td>\n",
              "      <td>40.738564</td>\n",
              "      <td>-73.999481</td>\n",
              "      <td>40.731152</td>\n",
              "      <td>N</td>\n",
              "      <td>663</td>\n",
              "      <td>0</td>\n",
              "      <td>6</td>\n",
              "      <td>6</td>\n",
              "      <td>Sunday</td>\n",
              "      <td>1.805510</td>\n",
              "      <td>9.80</td>\n",
              "    </tr>\n",
              "    <tr>\n",
              "      <th>2</th>\n",
              "      <td>id3858529</td>\n",
              "      <td>2</td>\n",
              "      <td>2016-01-19 11:35:24</td>\n",
              "      <td>2016-01-19 12:10:48</td>\n",
              "      <td>1</td>\n",
              "      <td>-73.979027</td>\n",
              "      <td>40.763939</td>\n",
              "      <td>-74.005333</td>\n",
              "      <td>40.710087</td>\n",
              "      <td>N</td>\n",
              "      <td>2124</td>\n",
              "      <td>11</td>\n",
              "      <td>1</td>\n",
              "      <td>1</td>\n",
              "      <td>Tuesday</td>\n",
              "      <td>6.385107</td>\n",
              "      <td>10.82</td>\n",
              "    </tr>\n",
              "    <tr>\n",
              "      <th>3</th>\n",
              "      <td>id3504673</td>\n",
              "      <td>2</td>\n",
              "      <td>2016-04-06 19:32:31</td>\n",
              "      <td>2016-04-06 19:39:40</td>\n",
              "      <td>1</td>\n",
              "      <td>-74.010040</td>\n",
              "      <td>40.719971</td>\n",
              "      <td>-74.012268</td>\n",
              "      <td>40.706718</td>\n",
              "      <td>N</td>\n",
              "      <td>429</td>\n",
              "      <td>19</td>\n",
              "      <td>4</td>\n",
              "      <td>2</td>\n",
              "      <td>Wednesday</td>\n",
              "      <td>1.485500</td>\n",
              "      <td>12.47</td>\n",
              "    </tr>\n",
              "    <tr>\n",
              "      <th>4</th>\n",
              "      <td>id2181028</td>\n",
              "      <td>2</td>\n",
              "      <td>2016-03-26 13:30:55</td>\n",
              "      <td>2016-03-26 13:38:10</td>\n",
              "      <td>1</td>\n",
              "      <td>-73.973053</td>\n",
              "      <td>40.793209</td>\n",
              "      <td>-73.972923</td>\n",
              "      <td>40.782520</td>\n",
              "      <td>N</td>\n",
              "      <td>435</td>\n",
              "      <td>13</td>\n",
              "      <td>3</td>\n",
              "      <td>5</td>\n",
              "      <td>Saturday</td>\n",
              "      <td>1.188590</td>\n",
              "      <td>9.84</td>\n",
              "    </tr>\n",
              "  </tbody>\n",
              "</table>\n",
              "</div>\n",
              "      <button class=\"colab-df-convert\" onclick=\"convertToInteractive('df-fe27adff-d344-4222-ba2a-add418bd29c6')\"\n",
              "              title=\"Convert this dataframe to an interactive table.\"\n",
              "              style=\"display:none;\">\n",
              "        \n",
              "  <svg xmlns=\"http://www.w3.org/2000/svg\" height=\"24px\"viewBox=\"0 0 24 24\"\n",
              "       width=\"24px\">\n",
              "    <path d=\"M0 0h24v24H0V0z\" fill=\"none\"/>\n",
              "    <path d=\"M18.56 5.44l.94 2.06.94-2.06 2.06-.94-2.06-.94-.94-2.06-.94 2.06-2.06.94zm-11 1L8.5 8.5l.94-2.06 2.06-.94-2.06-.94L8.5 2.5l-.94 2.06-2.06.94zm10 10l.94 2.06.94-2.06 2.06-.94-2.06-.94-.94-2.06-.94 2.06-2.06.94z\"/><path d=\"M17.41 7.96l-1.37-1.37c-.4-.4-.92-.59-1.43-.59-.52 0-1.04.2-1.43.59L10.3 9.45l-7.72 7.72c-.78.78-.78 2.05 0 2.83L4 21.41c.39.39.9.59 1.41.59.51 0 1.02-.2 1.41-.59l7.78-7.78 2.81-2.81c.8-.78.8-2.07 0-2.86zM5.41 20L4 18.59l7.72-7.72 1.47 1.35L5.41 20z\"/>\n",
              "  </svg>\n",
              "      </button>\n",
              "      \n",
              "  <style>\n",
              "    .colab-df-container {\n",
              "      display:flex;\n",
              "      flex-wrap:wrap;\n",
              "      gap: 12px;\n",
              "    }\n",
              "\n",
              "    .colab-df-convert {\n",
              "      background-color: #E8F0FE;\n",
              "      border: none;\n",
              "      border-radius: 50%;\n",
              "      cursor: pointer;\n",
              "      display: none;\n",
              "      fill: #1967D2;\n",
              "      height: 32px;\n",
              "      padding: 0 0 0 0;\n",
              "      width: 32px;\n",
              "    }\n",
              "\n",
              "    .colab-df-convert:hover {\n",
              "      background-color: #E2EBFA;\n",
              "      box-shadow: 0px 1px 2px rgba(60, 64, 67, 0.3), 0px 1px 3px 1px rgba(60, 64, 67, 0.15);\n",
              "      fill: #174EA6;\n",
              "    }\n",
              "\n",
              "    [theme=dark] .colab-df-convert {\n",
              "      background-color: #3B4455;\n",
              "      fill: #D2E3FC;\n",
              "    }\n",
              "\n",
              "    [theme=dark] .colab-df-convert:hover {\n",
              "      background-color: #434B5C;\n",
              "      box-shadow: 0px 1px 3px 1px rgba(0, 0, 0, 0.15);\n",
              "      filter: drop-shadow(0px 1px 2px rgba(0, 0, 0, 0.3));\n",
              "      fill: #FFFFFF;\n",
              "    }\n",
              "  </style>\n",
              "\n",
              "      <script>\n",
              "        const buttonEl =\n",
              "          document.querySelector('#df-fe27adff-d344-4222-ba2a-add418bd29c6 button.colab-df-convert');\n",
              "        buttonEl.style.display =\n",
              "          google.colab.kernel.accessAllowed ? 'block' : 'none';\n",
              "\n",
              "        async function convertToInteractive(key) {\n",
              "          const element = document.querySelector('#df-fe27adff-d344-4222-ba2a-add418bd29c6');\n",
              "          const dataTable =\n",
              "            await google.colab.kernel.invokeFunction('convertToInteractive',\n",
              "                                                     [key], {});\n",
              "          if (!dataTable) return;\n",
              "\n",
              "          const docLinkHtml = 'Like what you see? Visit the ' +\n",
              "            '<a target=\"_blank\" href=https://colab.research.google.com/notebooks/data_table.ipynb>data table notebook</a>'\n",
              "            + ' to learn more about interactive tables.';\n",
              "          element.innerHTML = '';\n",
              "          dataTable['output_type'] = 'display_data';\n",
              "          await google.colab.output.renderOutput(dataTable, element);\n",
              "          const docLink = document.createElement('div');\n",
              "          docLink.innerHTML = docLinkHtml;\n",
              "          element.appendChild(docLink);\n",
              "        }\n",
              "      </script>\n",
              "    </div>\n",
              "  </div>\n",
              "  "
            ],
            "text/plain": [
              "          id  vendor_id     pickup_datetime  ... weekday_day  distance  speed\n",
              "0  id2875421          2 2016-03-14 17:24:55  ...      Monday  1.498523  11.86\n",
              "1  id2377394          1 2016-06-12 00:43:35  ...      Sunday  1.805510   9.80\n",
              "2  id3858529          2 2016-01-19 11:35:24  ...     Tuesday  6.385107  10.82\n",
              "3  id3504673          2 2016-04-06 19:32:31  ...   Wednesday  1.485500  12.47\n",
              "4  id2181028          2 2016-03-26 13:30:55  ...    Saturday  1.188590   9.84\n",
              "\n",
              "[5 rows x 17 columns]"
            ]
          },
          "metadata": {},
          "execution_count": 96
        }
      ]
    },
    {
      "cell_type": "code",
      "source": [
        ""
      ],
      "metadata": {
        "id": "VATxIfm44JoW"
      },
      "execution_count": null,
      "outputs": []
    }
  ]
}